{
  "nbformat": 4,
  "nbformat_minor": 0,
  "metadata": {
    "colab": {
      "name": "1301174689.ipynb",
      "provenance": [],
      "collapsed_sections": []
    },
    "kernelspec": {
      "name": "python3",
      "display_name": "Python 3"
    },
    "accelerator": "GPU"
  },
  "cells": [
    {
      "cell_type": "markdown",
      "metadata": {
        "id": "MM1sjOkRIEO0",
        "colab_type": "text"
      },
      "source": [
        "TUGAS BESAR MK Pembelajaran Mesin\n",
        "*   IRAWANSYAH\n",
        "*   1301174689\n",
        "*   IFIK-41-03\n",
        "\n",
        "\n",
        "\n",
        "\n",
        "\n",
        "\n",
        "\n",
        "\n"
      ]
    },
    {
      "cell_type": "markdown",
      "metadata": {
        "id": "LiP_sNDSYbWC",
        "colab_type": "text"
      },
      "source": [
        "Import Library apa saja yang akan digunakan"
      ]
    },
    {
      "cell_type": "code",
      "metadata": {
        "id": "4_TMYKsTIAtQ",
        "colab_type": "code",
        "outputId": "84f8886e-54b4-409a-b47f-bbf7d4d6b209",
        "colab": {
          "base_uri": "https://localhost:8080/",
          "height": 74
        }
      },
      "source": [
        "import random as rd\n",
        "import pandas as pd\n",
        "from pandas.plotting import scatter_matrix\n",
        "import numpy as np\n",
        "import matplotlib.pyplot as plt \n",
        "import seaborn as sns\n",
        "import missingno as msno\n",
        "import warnings\n",
        "from matplotlib import style\n",
        "from sklearn import datasets, linear_model\n",
        "from sklearn.cluster import AgglomerativeClustering\n",
        "from sklearn.model_selection import train_test_split\n",
        "from sklearn.impute import SimpleImputer\n",
        "from sklearn.preprocessing import LabelEncoder, OneHotEncoder, MinMaxScaler\n",
        "warnings.filterwarnings('ignore')"
      ],
      "execution_count": 1,
      "outputs": [
        {
          "output_type": "stream",
          "text": [
            "/usr/local/lib/python3.6/dist-packages/statsmodels/tools/_testing.py:19: FutureWarning: pandas.util.testing is deprecated. Use the functions in the public API at pandas.testing instead.\n",
            "  import pandas.util.testing as tm\n"
          ],
          "name": "stderr"
        }
      ]
    },
    {
      "cell_type": "code",
      "metadata": {
        "id": "4XMcknkWICqu",
        "colab_type": "code",
        "outputId": "fe48b25d-66a9-4303-a781-f8d73abfc283",
        "colab": {
          "resources": {
            "http://localhost:8080/nbextensions/google.colab/files.js": {
              "data": "Ly8gQ29weXJpZ2h0IDIwMTcgR29vZ2xlIExMQwovLwovLyBMaWNlbnNlZCB1bmRlciB0aGUgQXBhY2hlIExpY2Vuc2UsIFZlcnNpb24gMi4wICh0aGUgIkxpY2Vuc2UiKTsKLy8geW91IG1heSBub3QgdXNlIHRoaXMgZmlsZSBleGNlcHQgaW4gY29tcGxpYW5jZSB3aXRoIHRoZSBMaWNlbnNlLgovLyBZb3UgbWF5IG9idGFpbiBhIGNvcHkgb2YgdGhlIExpY2Vuc2UgYXQKLy8KLy8gICAgICBodHRwOi8vd3d3LmFwYWNoZS5vcmcvbGljZW5zZXMvTElDRU5TRS0yLjAKLy8KLy8gVW5sZXNzIHJlcXVpcmVkIGJ5IGFwcGxpY2FibGUgbGF3IG9yIGFncmVlZCB0byBpbiB3cml0aW5nLCBzb2Z0d2FyZQovLyBkaXN0cmlidXRlZCB1bmRlciB0aGUgTGljZW5zZSBpcyBkaXN0cmlidXRlZCBvbiBhbiAiQVMgSVMiIEJBU0lTLAovLyBXSVRIT1VUIFdBUlJBTlRJRVMgT1IgQ09ORElUSU9OUyBPRiBBTlkgS0lORCwgZWl0aGVyIGV4cHJlc3Mgb3IgaW1wbGllZC4KLy8gU2VlIHRoZSBMaWNlbnNlIGZvciB0aGUgc3BlY2lmaWMgbGFuZ3VhZ2UgZ292ZXJuaW5nIHBlcm1pc3Npb25zIGFuZAovLyBsaW1pdGF0aW9ucyB1bmRlciB0aGUgTGljZW5zZS4KCi8qKgogKiBAZmlsZW92ZXJ2aWV3IEhlbHBlcnMgZm9yIGdvb2dsZS5jb2xhYiBQeXRob24gbW9kdWxlLgogKi8KKGZ1bmN0aW9uKHNjb3BlKSB7CmZ1bmN0aW9uIHNwYW4odGV4dCwgc3R5bGVBdHRyaWJ1dGVzID0ge30pIHsKICBjb25zdCBlbGVtZW50ID0gZG9jdW1lbnQuY3JlYXRlRWxlbWVudCgnc3BhbicpOwogIGVsZW1lbnQudGV4dENvbnRlbnQgPSB0ZXh0OwogIGZvciAoY29uc3Qga2V5IG9mIE9iamVjdC5rZXlzKHN0eWxlQXR0cmlidXRlcykpIHsKICAgIGVsZW1lbnQuc3R5bGVba2V5XSA9IHN0eWxlQXR0cmlidXRlc1trZXldOwogIH0KICByZXR1cm4gZWxlbWVudDsKfQoKLy8gTWF4IG51bWJlciBvZiBieXRlcyB3aGljaCB3aWxsIGJlIHVwbG9hZGVkIGF0IGEgdGltZS4KY29uc3QgTUFYX1BBWUxPQURfU0laRSA9IDEwMCAqIDEwMjQ7Ci8vIE1heCBhbW91bnQgb2YgdGltZSB0byBibG9jayB3YWl0aW5nIGZvciB0aGUgdXNlci4KY29uc3QgRklMRV9DSEFOR0VfVElNRU9VVF9NUyA9IDMwICogMTAwMDsKCmZ1bmN0aW9uIF91cGxvYWRGaWxlcyhpbnB1dElkLCBvdXRwdXRJZCkgewogIGNvbnN0IHN0ZXBzID0gdXBsb2FkRmlsZXNTdGVwKGlucHV0SWQsIG91dHB1dElkKTsKICBjb25zdCBvdXRwdXRFbGVtZW50ID0gZG9jdW1lbnQuZ2V0RWxlbWVudEJ5SWQob3V0cHV0SWQpOwogIC8vIENhY2hlIHN0ZXBzIG9uIHRoZSBvdXRwdXRFbGVtZW50IHRvIG1ha2UgaXQgYXZhaWxhYmxlIGZvciB0aGUgbmV4dCBjYWxsCiAgLy8gdG8gdXBsb2FkRmlsZXNDb250aW51ZSBmcm9tIFB5dGhvbi4KICBvdXRwdXRFbGVtZW50LnN0ZXBzID0gc3RlcHM7CgogIHJldHVybiBfdXBsb2FkRmlsZXNDb250aW51ZShvdXRwdXRJZCk7Cn0KCi8vIFRoaXMgaXMgcm91Z2hseSBhbiBhc3luYyBnZW5lcmF0b3IgKG5vdCBzdXBwb3J0ZWQgaW4gdGhlIGJyb3dzZXIgeWV0KSwKLy8gd2hlcmUgdGhlcmUgYXJlIG11bHRpcGxlIGFzeW5jaHJvbm91cyBzdGVwcyBhbmQgdGhlIFB5dGhvbiBzaWRlIGlzIGdvaW5nCi8vIHRvIHBvbGwgZm9yIGNvbXBsZXRpb24gb2YgZWFjaCBzdGVwLgovLyBUaGlzIHVzZXMgYSBQcm9taXNlIHRvIGJsb2NrIHRoZSBweXRob24gc2lkZSBvbiBjb21wbGV0aW9uIG9mIGVhY2ggc3RlcCwKLy8gdGhlbiBwYXNzZXMgdGhlIHJlc3VsdCBvZiB0aGUgcHJldmlvdXMgc3RlcCBhcyB0aGUgaW5wdXQgdG8gdGhlIG5leHQgc3RlcC4KZnVuY3Rpb24gX3VwbG9hZEZpbGVzQ29udGludWUob3V0cHV0SWQpIHsKICBjb25zdCBvdXRwdXRFbGVtZW50ID0gZG9jdW1lbnQuZ2V0RWxlbWVudEJ5SWQob3V0cHV0SWQpOwogIGNvbnN0IHN0ZXBzID0gb3V0cHV0RWxlbWVudC5zdGVwczsKCiAgY29uc3QgbmV4dCA9IHN0ZXBzLm5leHQob3V0cHV0RWxlbWVudC5sYXN0UHJvbWlzZVZhbHVlKTsKICByZXR1cm4gUHJvbWlzZS5yZXNvbHZlKG5leHQudmFsdWUucHJvbWlzZSkudGhlbigodmFsdWUpID0+IHsKICAgIC8vIENhY2hlIHRoZSBsYXN0IHByb21pc2UgdmFsdWUgdG8gbWFrZSBpdCBhdmFpbGFibGUgdG8gdGhlIG5leHQKICAgIC8vIHN0ZXAgb2YgdGhlIGdlbmVyYXRvci4KICAgIG91dHB1dEVsZW1lbnQubGFzdFByb21pc2VWYWx1ZSA9IHZhbHVlOwogICAgcmV0dXJuIG5leHQudmFsdWUucmVzcG9uc2U7CiAgfSk7Cn0KCi8qKgogKiBHZW5lcmF0b3IgZnVuY3Rpb24gd2hpY2ggaXMgY2FsbGVkIGJldHdlZW4gZWFjaCBhc3luYyBzdGVwIG9mIHRoZSB1cGxvYWQKICogcHJvY2Vzcy4KICogQHBhcmFtIHtzdHJpbmd9IGlucHV0SWQgRWxlbWVudCBJRCBvZiB0aGUgaW5wdXQgZmlsZSBwaWNrZXIgZWxlbWVudC4KICogQHBhcmFtIHtzdHJpbmd9IG91dHB1dElkIEVsZW1lbnQgSUQgb2YgdGhlIG91dHB1dCBkaXNwbGF5LgogKiBAcmV0dXJuIHshSXRlcmFibGU8IU9iamVjdD59IEl0ZXJhYmxlIG9mIG5leHQgc3RlcHMuCiAqLwpmdW5jdGlvbiogdXBsb2FkRmlsZXNTdGVwKGlucHV0SWQsIG91dHB1dElkKSB7CiAgY29uc3QgaW5wdXRFbGVtZW50ID0gZG9jdW1lbnQuZ2V0RWxlbWVudEJ5SWQoaW5wdXRJZCk7CiAgaW5wdXRFbGVtZW50LmRpc2FibGVkID0gZmFsc2U7CgogIGNvbnN0IG91dHB1dEVsZW1lbnQgPSBkb2N1bWVudC5nZXRFbGVtZW50QnlJZChvdXRwdXRJZCk7CiAgb3V0cHV0RWxlbWVudC5pbm5lckhUTUwgPSAnJzsKCiAgY29uc3QgcGlja2VkUHJvbWlzZSA9IG5ldyBQcm9taXNlKChyZXNvbHZlKSA9PiB7CiAgICBpbnB1dEVsZW1lbnQuYWRkRXZlbnRMaXN0ZW5lcignY2hhbmdlJywgKGUpID0+IHsKICAgICAgcmVzb2x2ZShlLnRhcmdldC5maWxlcyk7CiAgICB9KTsKICB9KTsKCiAgY29uc3QgY2FuY2VsID0gZG9jdW1lbnQuY3JlYXRlRWxlbWVudCgnYnV0dG9uJyk7CiAgaW5wdXRFbGVtZW50LnBhcmVudEVsZW1lbnQuYXBwZW5kQ2hpbGQoY2FuY2VsKTsKICBjYW5jZWwudGV4dENvbnRlbnQgPSAnQ2FuY2VsIHVwbG9hZCc7CiAgY29uc3QgY2FuY2VsUHJvbWlzZSA9IG5ldyBQcm9taXNlKChyZXNvbHZlKSA9PiB7CiAgICBjYW5jZWwub25jbGljayA9ICgpID0+IHsKICAgICAgcmVzb2x2ZShudWxsKTsKICAgIH07CiAgfSk7CgogIC8vIENhbmNlbCB1cGxvYWQgaWYgdXNlciBoYXNuJ3QgcGlja2VkIGFueXRoaW5nIGluIHRpbWVvdXQuCiAgY29uc3QgdGltZW91dFByb21pc2UgPSBuZXcgUHJvbWlzZSgocmVzb2x2ZSkgPT4gewogICAgc2V0VGltZW91dCgoKSA9PiB7CiAgICAgIHJlc29sdmUobnVsbCk7CiAgICB9LCBGSUxFX0NIQU5HRV9USU1FT1VUX01TKTsKICB9KTsKCiAgLy8gV2FpdCBmb3IgdGhlIHVzZXIgdG8gcGljayB0aGUgZmlsZXMuCiAgY29uc3QgZmlsZXMgPSB5aWVsZCB7CiAgICBwcm9taXNlOiBQcm9taXNlLnJhY2UoW3BpY2tlZFByb21pc2UsIHRpbWVvdXRQcm9taXNlLCBjYW5jZWxQcm9taXNlXSksCiAgICByZXNwb25zZTogewogICAgICBhY3Rpb246ICdzdGFydGluZycsCiAgICB9CiAgfTsKCiAgaWYgKCFmaWxlcykgewogICAgcmV0dXJuIHsKICAgICAgcmVzcG9uc2U6IHsKICAgICAgICBhY3Rpb246ICdjb21wbGV0ZScsCiAgICAgIH0KICAgIH07CiAgfQoKICBjYW5jZWwucmVtb3ZlKCk7CgogIC8vIERpc2FibGUgdGhlIGlucHV0IGVsZW1lbnQgc2luY2UgZnVydGhlciBwaWNrcyBhcmUgbm90IGFsbG93ZWQuCiAgaW5wdXRFbGVtZW50LmRpc2FibGVkID0gdHJ1ZTsKCiAgZm9yIChjb25zdCBmaWxlIG9mIGZpbGVzKSB7CiAgICBjb25zdCBsaSA9IGRvY3VtZW50LmNyZWF0ZUVsZW1lbnQoJ2xpJyk7CiAgICBsaS5hcHBlbmQoc3BhbihmaWxlLm5hbWUsIHtmb250V2VpZ2h0OiAnYm9sZCd9KSk7CiAgICBsaS5hcHBlbmQoc3BhbigKICAgICAgICBgKCR7ZmlsZS50eXBlIHx8ICduL2EnfSkgLSAke2ZpbGUuc2l6ZX0gYnl0ZXMsIGAgKwogICAgICAgIGBsYXN0IG1vZGlmaWVkOiAkewogICAgICAgICAgICBmaWxlLmxhc3RNb2RpZmllZERhdGUgPyBmaWxlLmxhc3RNb2RpZmllZERhdGUudG9Mb2NhbGVEYXRlU3RyaW5nKCkgOgogICAgICAgICAgICAgICAgICAgICAgICAgICAgICAgICAgICAnbi9hJ30gLSBgKSk7CiAgICBjb25zdCBwZXJjZW50ID0gc3BhbignMCUgZG9uZScpOwogICAgbGkuYXBwZW5kQ2hpbGQocGVyY2VudCk7CgogICAgb3V0cHV0RWxlbWVudC5hcHBlbmRDaGlsZChsaSk7CgogICAgY29uc3QgZmlsZURhdGFQcm9taXNlID0gbmV3IFByb21pc2UoKHJlc29sdmUpID0+IHsKICAgICAgY29uc3QgcmVhZGVyID0gbmV3IEZpbGVSZWFkZXIoKTsKICAgICAgcmVhZGVyLm9ubG9hZCA9IChlKSA9PiB7CiAgICAgICAgcmVzb2x2ZShlLnRhcmdldC5yZXN1bHQpOwogICAgICB9OwogICAgICByZWFkZXIucmVhZEFzQXJyYXlCdWZmZXIoZmlsZSk7CiAgICB9KTsKICAgIC8vIFdhaXQgZm9yIHRoZSBkYXRhIHRvIGJlIHJlYWR5LgogICAgbGV0IGZpbGVEYXRhID0geWllbGQgewogICAgICBwcm9taXNlOiBmaWxlRGF0YVByb21pc2UsCiAgICAgIHJlc3BvbnNlOiB7CiAgICAgICAgYWN0aW9uOiAnY29udGludWUnLAogICAgICB9CiAgICB9OwoKICAgIC8vIFVzZSBhIGNodW5rZWQgc2VuZGluZyB0byBhdm9pZCBtZXNzYWdlIHNpemUgbGltaXRzLiBTZWUgYi82MjExNTY2MC4KICAgIGxldCBwb3NpdGlvbiA9IDA7CiAgICB3aGlsZSAocG9zaXRpb24gPCBmaWxlRGF0YS5ieXRlTGVuZ3RoKSB7CiAgICAgIGNvbnN0IGxlbmd0aCA9IE1hdGgubWluKGZpbGVEYXRhLmJ5dGVMZW5ndGggLSBwb3NpdGlvbiwgTUFYX1BBWUxPQURfU0laRSk7CiAgICAgIGNvbnN0IGNodW5rID0gbmV3IFVpbnQ4QXJyYXkoZmlsZURhdGEsIHBvc2l0aW9uLCBsZW5ndGgpOwogICAgICBwb3NpdGlvbiArPSBsZW5ndGg7CgogICAgICBjb25zdCBiYXNlNjQgPSBidG9hKFN0cmluZy5mcm9tQ2hhckNvZGUuYXBwbHkobnVsbCwgY2h1bmspKTsKICAgICAgeWllbGQgewogICAgICAgIHJlc3BvbnNlOiB7CiAgICAgICAgICBhY3Rpb246ICdhcHBlbmQnLAogICAgICAgICAgZmlsZTogZmlsZS5uYW1lLAogICAgICAgICAgZGF0YTogYmFzZTY0LAogICAgICAgIH0sCiAgICAgIH07CiAgICAgIHBlcmNlbnQudGV4dENvbnRlbnQgPQogICAgICAgICAgYCR7TWF0aC5yb3VuZCgocG9zaXRpb24gLyBmaWxlRGF0YS5ieXRlTGVuZ3RoKSAqIDEwMCl9JSBkb25lYDsKICAgIH0KICB9CgogIC8vIEFsbCBkb25lLgogIHlpZWxkIHsKICAgIHJlc3BvbnNlOiB7CiAgICAgIGFjdGlvbjogJ2NvbXBsZXRlJywKICAgIH0KICB9Owp9CgpzY29wZS5nb29nbGUgPSBzY29wZS5nb29nbGUgfHwge307CnNjb3BlLmdvb2dsZS5jb2xhYiA9IHNjb3BlLmdvb2dsZS5jb2xhYiB8fCB7fTsKc2NvcGUuZ29vZ2xlLmNvbGFiLl9maWxlcyA9IHsKICBfdXBsb2FkRmlsZXMsCiAgX3VwbG9hZEZpbGVzQ29udGludWUsCn07Cn0pKHNlbGYpOwo=",
              "ok": true,
              "headers": [
                [
                  "content-type",
                  "application/javascript"
                ]
              ],
              "status": 200,
              "status_text": ""
            }
          },
          "base_uri": "https://localhost:8080/",
          "height": 93
        }
      },
      "source": [
        "from google.colab import files\n",
        "files.upload()\n",
        "datasets = pd.read_csv('air_bnb.csv')\n",
        "datasets.head()\n",
        "datasets.shape"
      ],
      "execution_count": 2,
      "outputs": [
        {
          "output_type": "display_data",
          "data": {
            "text/html": [
              "\n",
              "     <input type=\"file\" id=\"files-2440f74e-0cde-47f8-8771-5141ef0c83e8\" name=\"files[]\" multiple disabled />\n",
              "     <output id=\"result-2440f74e-0cde-47f8-8771-5141ef0c83e8\">\n",
              "      Upload widget is only available when the cell has been executed in the\n",
              "      current browser session. Please rerun this cell to enable.\n",
              "      </output>\n",
              "      <script src=\"/nbextensions/google.colab/files.js\"></script> "
            ],
            "text/plain": [
              "<IPython.core.display.HTML object>"
            ]
          },
          "metadata": {
            "tags": []
          }
        },
        {
          "output_type": "stream",
          "text": [
            "Saving air_bnb.csv to air_bnb (1).csv\n"
          ],
          "name": "stdout"
        },
        {
          "output_type": "execute_result",
          "data": {
            "text/plain": [
              "(22552, 16)"
            ]
          },
          "metadata": {
            "tags": []
          },
          "execution_count": 2
        }
      ]
    },
    {
      "cell_type": "code",
      "metadata": {
        "id": "863ocg2ZIMey",
        "colab_type": "code",
        "outputId": "82abcdb8-83db-4760-e3d9-58baea0b90bd",
        "colab": {
          "base_uri": "https://localhost:8080/",
          "height": 308
        }
      },
      "source": [
        "datasets.describe()"
      ],
      "execution_count": 4,
      "outputs": [
        {
          "output_type": "execute_result",
          "data": {
            "text/html": [
              "<div>\n",
              "<style scoped>\n",
              "    .dataframe tbody tr th:only-of-type {\n",
              "        vertical-align: middle;\n",
              "    }\n",
              "\n",
              "    .dataframe tbody tr th {\n",
              "        vertical-align: top;\n",
              "    }\n",
              "\n",
              "    .dataframe thead th {\n",
              "        text-align: right;\n",
              "    }\n",
              "</style>\n",
              "<table border=\"1\" class=\"dataframe\">\n",
              "  <thead>\n",
              "    <tr style=\"text-align: right;\">\n",
              "      <th></th>\n",
              "      <th>id</th>\n",
              "      <th>host_id</th>\n",
              "      <th>latitude</th>\n",
              "      <th>longitude</th>\n",
              "      <th>price</th>\n",
              "      <th>minimum_nights</th>\n",
              "      <th>number_of_reviews</th>\n",
              "      <th>reviews_per_month</th>\n",
              "      <th>calculated_host_listings_count</th>\n",
              "      <th>availability_365</th>\n",
              "    </tr>\n",
              "  </thead>\n",
              "  <tbody>\n",
              "    <tr>\n",
              "      <th>count</th>\n",
              "      <td>2.255200e+04</td>\n",
              "      <td>2.255200e+04</td>\n",
              "      <td>22552.000000</td>\n",
              "      <td>22552.000000</td>\n",
              "      <td>22552.000000</td>\n",
              "      <td>22552.000000</td>\n",
              "      <td>22552.000000</td>\n",
              "      <td>18638.000000</td>\n",
              "      <td>22552.000000</td>\n",
              "      <td>22552.000000</td>\n",
              "    </tr>\n",
              "    <tr>\n",
              "      <th>mean</th>\n",
              "      <td>1.571560e+07</td>\n",
              "      <td>5.403355e+07</td>\n",
              "      <td>52.509824</td>\n",
              "      <td>13.406107</td>\n",
              "      <td>67.143668</td>\n",
              "      <td>7.157059</td>\n",
              "      <td>17.840679</td>\n",
              "      <td>1.135525</td>\n",
              "      <td>1.918233</td>\n",
              "      <td>79.852829</td>\n",
              "    </tr>\n",
              "    <tr>\n",
              "      <th>std</th>\n",
              "      <td>8.552069e+06</td>\n",
              "      <td>5.816290e+07</td>\n",
              "      <td>0.030825</td>\n",
              "      <td>0.057964</td>\n",
              "      <td>220.266210</td>\n",
              "      <td>40.665073</td>\n",
              "      <td>36.769624</td>\n",
              "      <td>1.507082</td>\n",
              "      <td>3.667257</td>\n",
              "      <td>119.368162</td>\n",
              "    </tr>\n",
              "    <tr>\n",
              "      <th>min</th>\n",
              "      <td>2.015000e+03</td>\n",
              "      <td>2.217000e+03</td>\n",
              "      <td>52.345803</td>\n",
              "      <td>13.103557</td>\n",
              "      <td>0.000000</td>\n",
              "      <td>1.000000</td>\n",
              "      <td>0.000000</td>\n",
              "      <td>0.010000</td>\n",
              "      <td>1.000000</td>\n",
              "      <td>0.000000</td>\n",
              "    </tr>\n",
              "    <tr>\n",
              "      <th>25%</th>\n",
              "      <td>8.065954e+06</td>\n",
              "      <td>9.240002e+06</td>\n",
              "      <td>52.489065</td>\n",
              "      <td>13.375411</td>\n",
              "      <td>30.000000</td>\n",
              "      <td>2.000000</td>\n",
              "      <td>1.000000</td>\n",
              "      <td>0.180000</td>\n",
              "      <td>1.000000</td>\n",
              "      <td>0.000000</td>\n",
              "    </tr>\n",
              "    <tr>\n",
              "      <th>50%</th>\n",
              "      <td>1.686638e+07</td>\n",
              "      <td>3.126711e+07</td>\n",
              "      <td>52.509079</td>\n",
              "      <td>13.416779</td>\n",
              "      <td>45.000000</td>\n",
              "      <td>2.000000</td>\n",
              "      <td>5.000000</td>\n",
              "      <td>0.540000</td>\n",
              "      <td>1.000000</td>\n",
              "      <td>4.000000</td>\n",
              "    </tr>\n",
              "    <tr>\n",
              "      <th>75%</th>\n",
              "      <td>2.258393e+07</td>\n",
              "      <td>8.067518e+07</td>\n",
              "      <td>52.532669</td>\n",
              "      <td>13.439259</td>\n",
              "      <td>70.000000</td>\n",
              "      <td>4.000000</td>\n",
              "      <td>16.000000</td>\n",
              "      <td>1.500000</td>\n",
              "      <td>1.000000</td>\n",
              "      <td>129.000000</td>\n",
              "    </tr>\n",
              "    <tr>\n",
              "      <th>max</th>\n",
              "      <td>2.986735e+07</td>\n",
              "      <td>2.245081e+08</td>\n",
              "      <td>52.651670</td>\n",
              "      <td>13.757642</td>\n",
              "      <td>9000.000000</td>\n",
              "      <td>5000.000000</td>\n",
              "      <td>498.000000</td>\n",
              "      <td>36.670000</td>\n",
              "      <td>45.000000</td>\n",
              "      <td>365.000000</td>\n",
              "    </tr>\n",
              "  </tbody>\n",
              "</table>\n",
              "</div>"
            ],
            "text/plain": [
              "                 id  ...  availability_365\n",
              "count  2.255200e+04  ...      22552.000000\n",
              "mean   1.571560e+07  ...         79.852829\n",
              "std    8.552069e+06  ...        119.368162\n",
              "min    2.015000e+03  ...          0.000000\n",
              "25%    8.065954e+06  ...          0.000000\n",
              "50%    1.686638e+07  ...          4.000000\n",
              "75%    2.258393e+07  ...        129.000000\n",
              "max    2.986735e+07  ...        365.000000\n",
              "\n",
              "[8 rows x 10 columns]"
            ]
          },
          "metadata": {
            "tags": []
          },
          "execution_count": 4
        }
      ]
    },
    {
      "cell_type": "markdown",
      "metadata": {
        "id": "lQI3CnGCCVHb",
        "colab_type": "text"
      },
      "source": [
        "# DATA PRE-PROCESSING"
      ]
    },
    {
      "cell_type": "markdown",
      "metadata": {
        "id": "GTKL2Uefb5Xa",
        "colab_type": "text"
      },
      "source": [
        "Data Cleaning untuk menghapus row atau kolom  yang memiliki missing values\n"
      ]
    },
    {
      "cell_type": "code",
      "metadata": {
        "id": "OsbZYZpLIMoO",
        "colab_type": "code",
        "outputId": "19fbc382-0f33-426f-a444-eecd88c0a0c2",
        "colab": {
          "base_uri": "https://localhost:8080/",
          "height": 35
        }
      },
      "source": [
        "datasets.dropna(inplace=True)\n",
        "datasets.shape"
      ],
      "execution_count": 5,
      "outputs": [
        {
          "output_type": "execute_result",
          "data": {
            "text/plain": [
              "(18587, 16)"
            ]
          },
          "metadata": {
            "tags": []
          },
          "execution_count": 5
        }
      ]
    },
    {
      "cell_type": "code",
      "metadata": {
        "id": "jUod_6NlIMqa",
        "colab_type": "code",
        "outputId": "e58140bd-916e-4fd5-d108-1ca1d543f778",
        "colab": {
          "base_uri": "https://localhost:8080/",
          "height": 35
        }
      },
      "source": [
        "datasets.isnull().sum().sum()"
      ],
      "execution_count": 6,
      "outputs": [
        {
          "output_type": "execute_result",
          "data": {
            "text/plain": [
              "0"
            ]
          },
          "metadata": {
            "tags": []
          },
          "execution_count": 6
        }
      ]
    },
    {
      "cell_type": "markdown",
      "metadata": {
        "id": "vnOjkjD3LIZA",
        "colab_type": "text"
      },
      "source": [
        "MENGANALISIS DAN MENGEKSPLORASI DATA\n"
      ]
    },
    {
      "cell_type": "code",
      "metadata": {
        "id": "d1vytbmdIMs1",
        "colab_type": "code",
        "outputId": "dac8ffb3-50b7-46a4-935d-f0d9cf7906e3",
        "colab": {
          "base_uri": "https://localhost:8080/",
          "height": 316
        }
      },
      "source": [
        "price = datasets['price']\n",
        "review = datasets['reviews_per_month']\n",
        "plt.scatter(price, review, c='r', edgecolors='yellow')\n",
        "plt.ylabel('Price ',fontsize=11)\n",
        "plt.xlabel('Reviews_per_month',fontsize=11)\n",
        "plt.title(\"Comparing price on Reviews per month\",fontsize=15)"
      ],
      "execution_count": 7,
      "outputs": [
        {
          "output_type": "execute_result",
          "data": {
            "text/plain": [
              "Text(0.5, 1.0, 'Comparing price on Reviews per month')"
            ]
          },
          "metadata": {
            "tags": []
          },
          "execution_count": 7
        },
        {
          "output_type": "display_data",
          "data": {
            "image/png": "[encoded data removed]",
            "text/plain": [
              "<Figure size 432x288 with 1 Axes>"
            ]
          },
          "metadata": {
            "tags": [],
            "needs_background": "light"
          }
        }
      ]
    },
    {
      "cell_type": "code",
      "metadata": {
        "id": "tc7KYc_jIMvK",
        "colab_type": "code",
        "outputId": "d83604d9-68cc-4608-abd5-6dfc42bba5fa",
        "colab": {
          "base_uri": "https://localhost:8080/",
          "height": 254
        }
      },
      "source": [
        "datasets.groupby(\"reviews_per_month\").size()"
      ],
      "execution_count": 8,
      "outputs": [
        {
          "output_type": "execute_result",
          "data": {
            "text/plain": [
              "reviews_per_month\n",
              "0.01       3\n",
              "0.02     153\n",
              "0.03     606\n",
              "0.04     299\n",
              "0.05     317\n",
              "        ... \n",
              "15.51      1\n",
              "15.88      1\n",
              "17.01      1\n",
              "33.43      1\n",
              "36.67      1\n",
              "Length: 768, dtype: int64"
            ]
          },
          "metadata": {
            "tags": []
          },
          "execution_count": 8
        }
      ]
    },
    {
      "cell_type": "code",
      "metadata": {
        "id": "VfOTp-GGa0On",
        "colab_type": "code",
        "outputId": "032d4f09-003d-4671-9fea-16bbfbd089e0",
        "colab": {
          "base_uri": "https://localhost:8080/",
          "height": 315
        }
      },
      "source": [
        "price = datasets['reviews_per_month']\n",
        "number = datasets['number_of_reviews']\n",
        "plt.scatter(price, number, c='r', edgecolors='yellow')\n",
        "plt.ylabel('Price ',fontsize=11)\n",
        "plt.xlabel('Reviews_per_month',fontsize=11)\n",
        "plt.title(\"Comparing number of review on Reviews per month on AirBnb\",fontsize=13)"
      ],
      "execution_count": 9,
      "outputs": [
        {
          "output_type": "execute_result",
          "data": {
            "text/plain": [
              "Text(0.5, 1.0, 'Comparing number of review on Reviews per month on AirBnb')"
            ]
          },
          "metadata": {
            "tags": []
          },
          "execution_count": 9
        },
        {
          "output_type": "display_data",
          "data": {
            "image/png": "[encoded data removed]",
            "text/plain": [
              "<Figure size 432x288 with 1 Axes>"
            ]
          },
          "metadata": {
            "tags": [],
            "needs_background": "light"
          }
        }
      ]
    },
    {
      "cell_type": "code",
      "metadata": {
        "id": "5pg8VQzvatdX",
        "colab_type": "code",
        "outputId": "20c2c6c4-8de2-46fa-b09f-f1357190bb31",
        "colab": {
          "base_uri": "https://localhost:8080/",
          "height": 825
        }
      },
      "source": [
        "datasets"
      ],
      "execution_count": 10,
      "outputs": [
        {
          "output_type": "execute_result",
          "data": {
            "text/html": [
              "<div>\n",
              "<style scoped>\n",
              "    .dataframe tbody tr th:only-of-type {\n",
              "        vertical-align: middle;\n",
              "    }\n",
              "\n",
              "    .dataframe tbody tr th {\n",
              "        vertical-align: top;\n",
              "    }\n",
              "\n",
              "    .dataframe thead th {\n",
              "        text-align: right;\n",
              "    }\n",
              "</style>\n",
              "<table border=\"1\" class=\"dataframe\">\n",
              "  <thead>\n",
              "    <tr style=\"text-align: right;\">\n",
              "      <th></th>\n",
              "      <th>id</th>\n",
              "      <th>name</th>\n",
              "      <th>host_id</th>\n",
              "      <th>host_name</th>\n",
              "      <th>neighbourhood_group</th>\n",
              "      <th>neighbourhood</th>\n",
              "      <th>latitude</th>\n",
              "      <th>longitude</th>\n",
              "      <th>room_type</th>\n",
              "      <th>price</th>\n",
              "      <th>minimum_nights</th>\n",
              "      <th>number_of_reviews</th>\n",
              "      <th>last_review</th>\n",
              "      <th>reviews_per_month</th>\n",
              "      <th>calculated_host_listings_count</th>\n",
              "      <th>availability_365</th>\n",
              "    </tr>\n",
              "  </thead>\n",
              "  <tbody>\n",
              "    <tr>\n",
              "      <th>0</th>\n",
              "      <td>2015</td>\n",
              "      <td>Berlin-Mitte Value! Quiet courtyard/very central</td>\n",
              "      <td>2217</td>\n",
              "      <td>Ian</td>\n",
              "      <td>Mitte</td>\n",
              "      <td>Brunnenstr. Süd</td>\n",
              "      <td>52.534537</td>\n",
              "      <td>13.402557</td>\n",
              "      <td>Entire home/apt</td>\n",
              "      <td>60</td>\n",
              "      <td>4</td>\n",
              "      <td>118</td>\n",
              "      <td>2018-10-28</td>\n",
              "      <td>3.76</td>\n",
              "      <td>4</td>\n",
              "      <td>141</td>\n",
              "    </tr>\n",
              "    <tr>\n",
              "      <th>1</th>\n",
              "      <td>2695</td>\n",
              "      <td>Prenzlauer Berg close to Mauerpark</td>\n",
              "      <td>2986</td>\n",
              "      <td>Michael</td>\n",
              "      <td>Pankow</td>\n",
              "      <td>Prenzlauer Berg Nordwest</td>\n",
              "      <td>52.548513</td>\n",
              "      <td>13.404553</td>\n",
              "      <td>Private room</td>\n",
              "      <td>17</td>\n",
              "      <td>2</td>\n",
              "      <td>6</td>\n",
              "      <td>2018-10-01</td>\n",
              "      <td>1.42</td>\n",
              "      <td>1</td>\n",
              "      <td>0</td>\n",
              "    </tr>\n",
              "    <tr>\n",
              "      <th>2</th>\n",
              "      <td>3176</td>\n",
              "      <td>Fabulous Flat in great Location</td>\n",
              "      <td>3718</td>\n",
              "      <td>Britta</td>\n",
              "      <td>Pankow</td>\n",
              "      <td>Prenzlauer Berg Südwest</td>\n",
              "      <td>52.534996</td>\n",
              "      <td>13.417579</td>\n",
              "      <td>Entire home/apt</td>\n",
              "      <td>90</td>\n",
              "      <td>62</td>\n",
              "      <td>143</td>\n",
              "      <td>2017-03-20</td>\n",
              "      <td>1.25</td>\n",
              "      <td>1</td>\n",
              "      <td>220</td>\n",
              "    </tr>\n",
              "    <tr>\n",
              "      <th>3</th>\n",
              "      <td>3309</td>\n",
              "      <td>BerlinSpot Schöneberg near KaDeWe</td>\n",
              "      <td>4108</td>\n",
              "      <td>Jana</td>\n",
              "      <td>Tempelhof - Schöneberg</td>\n",
              "      <td>Schöneberg-Nord</td>\n",
              "      <td>52.498855</td>\n",
              "      <td>13.349065</td>\n",
              "      <td>Private room</td>\n",
              "      <td>26</td>\n",
              "      <td>5</td>\n",
              "      <td>25</td>\n",
              "      <td>2018-08-16</td>\n",
              "      <td>0.39</td>\n",
              "      <td>1</td>\n",
              "      <td>297</td>\n",
              "    </tr>\n",
              "    <tr>\n",
              "      <th>4</th>\n",
              "      <td>7071</td>\n",
              "      <td>BrightRoom with sunny greenview!</td>\n",
              "      <td>17391</td>\n",
              "      <td>Bright</td>\n",
              "      <td>Pankow</td>\n",
              "      <td>Helmholtzplatz</td>\n",
              "      <td>52.543157</td>\n",
              "      <td>13.415091</td>\n",
              "      <td>Private room</td>\n",
              "      <td>42</td>\n",
              "      <td>2</td>\n",
              "      <td>197</td>\n",
              "      <td>2018-11-04</td>\n",
              "      <td>1.75</td>\n",
              "      <td>1</td>\n",
              "      <td>26</td>\n",
              "    </tr>\n",
              "    <tr>\n",
              "      <th>...</th>\n",
              "      <td>...</td>\n",
              "      <td>...</td>\n",
              "      <td>...</td>\n",
              "      <td>...</td>\n",
              "      <td>...</td>\n",
              "      <td>...</td>\n",
              "      <td>...</td>\n",
              "      <td>...</td>\n",
              "      <td>...</td>\n",
              "      <td>...</td>\n",
              "      <td>...</td>\n",
              "      <td>...</td>\n",
              "      <td>...</td>\n",
              "      <td>...</td>\n",
              "      <td>...</td>\n",
              "      <td>...</td>\n",
              "    </tr>\n",
              "    <tr>\n",
              "      <th>22449</th>\n",
              "      <td>29772631</td>\n",
              "      <td>Cosy and lovely room near Ostkreuz</td>\n",
              "      <td>20727291</td>\n",
              "      <td>Anna</td>\n",
              "      <td>Lichtenberg</td>\n",
              "      <td>Neu Lichtenberg</td>\n",
              "      <td>52.502952</td>\n",
              "      <td>13.490870</td>\n",
              "      <td>Private room</td>\n",
              "      <td>25</td>\n",
              "      <td>2</td>\n",
              "      <td>1</td>\n",
              "      <td>2018-11-04</td>\n",
              "      <td>1.00</td>\n",
              "      <td>1</td>\n",
              "      <td>32</td>\n",
              "    </tr>\n",
              "    <tr>\n",
              "      <th>22463</th>\n",
              "      <td>29784461</td>\n",
              "      <td>House on the water HT10 - Heart of East Berlin</td>\n",
              "      <td>22437698</td>\n",
              "      <td>Sebastian</td>\n",
              "      <td>Treptow - Köpenick</td>\n",
              "      <td>Oberschöneweide</td>\n",
              "      <td>52.457982</td>\n",
              "      <td>13.526945</td>\n",
              "      <td>Entire home/apt</td>\n",
              "      <td>99</td>\n",
              "      <td>1</td>\n",
              "      <td>5</td>\n",
              "      <td>2018-11-06</td>\n",
              "      <td>5.00</td>\n",
              "      <td>2</td>\n",
              "      <td>339</td>\n",
              "    </tr>\n",
              "    <tr>\n",
              "      <th>22475</th>\n",
              "      <td>29792124</td>\n",
              "      <td>Welcome to Light Apartment</td>\n",
              "      <td>224133729</td>\n",
              "      <td>Inna</td>\n",
              "      <td>Friedrichshain-Kreuzberg</td>\n",
              "      <td>Frankfurter Allee Süd FK</td>\n",
              "      <td>52.507884</td>\n",
              "      <td>13.467071</td>\n",
              "      <td>Private room</td>\n",
              "      <td>25</td>\n",
              "      <td>1</td>\n",
              "      <td>1</td>\n",
              "      <td>2018-11-05</td>\n",
              "      <td>1.00</td>\n",
              "      <td>1</td>\n",
              "      <td>8</td>\n",
              "    </tr>\n",
              "    <tr>\n",
              "      <th>22508</th>\n",
              "      <td>29817383</td>\n",
              "      <td>Prenzlauerberg</td>\n",
              "      <td>224295751</td>\n",
              "      <td>Salem</td>\n",
              "      <td>Pankow</td>\n",
              "      <td>Prenzlauer Berg Nordwest</td>\n",
              "      <td>52.552250</td>\n",
              "      <td>13.410904</td>\n",
              "      <td>Entire home/apt</td>\n",
              "      <td>70</td>\n",
              "      <td>1</td>\n",
              "      <td>1</td>\n",
              "      <td>2018-11-07</td>\n",
              "      <td>1.00</td>\n",
              "      <td>1</td>\n",
              "      <td>350</td>\n",
              "    </tr>\n",
              "    <tr>\n",
              "      <th>22536</th>\n",
              "      <td>29849565</td>\n",
              "      <td>Super zentrales Apartment + Garten für 6 Personen</td>\n",
              "      <td>607481</td>\n",
              "      <td>Sven</td>\n",
              "      <td>Pankow</td>\n",
              "      <td>Prenzlauer Berg Südwest</td>\n",
              "      <td>52.536666</td>\n",
              "      <td>13.411360</td>\n",
              "      <td>Entire home/apt</td>\n",
              "      <td>150</td>\n",
              "      <td>10</td>\n",
              "      <td>2</td>\n",
              "      <td>2018-11-07</td>\n",
              "      <td>2.00</td>\n",
              "      <td>1</td>\n",
              "      <td>69</td>\n",
              "    </tr>\n",
              "  </tbody>\n",
              "</table>\n",
              "<p>18587 rows × 16 columns</p>\n",
              "</div>"
            ],
            "text/plain": [
              "             id  ... availability_365\n",
              "0          2015  ...              141\n",
              "1          2695  ...                0\n",
              "2          3176  ...              220\n",
              "3          3309  ...              297\n",
              "4          7071  ...               26\n",
              "...         ...  ...              ...\n",
              "22449  29772631  ...               32\n",
              "22463  29784461  ...              339\n",
              "22475  29792124  ...                8\n",
              "22508  29817383  ...              350\n",
              "22536  29849565  ...               69\n",
              "\n",
              "[18587 rows x 16 columns]"
            ]
          },
          "metadata": {
            "tags": []
          },
          "execution_count": 10
        }
      ]
    },
    {
      "cell_type": "code",
      "metadata": {
        "colab_type": "code",
        "id": "kWWOXuuIanf1",
        "colab": {}
      },
      "source": [
        "datasets.drop(datasets[datasets.reviews_per_month > 10].index ,inplace =True)\n",
        "datasets.drop(datasets[(datasets.number_of_reviews < 10) | (datasets.number_of_reviews >=300) ].index ,inplace =True)"
      ],
      "execution_count": 0,
      "outputs": []
    },
    {
      "cell_type": "code",
      "metadata": {
        "id": "sKW9j-kJOhD2",
        "colab_type": "code",
        "outputId": "b1efeb9a-021c-4816-c571-d38e1690ed82",
        "colab": {
          "base_uri": "https://localhost:8080/",
          "height": 876
        }
      },
      "source": [
        "datasets"
      ],
      "execution_count": 12,
      "outputs": [
        {
          "output_type": "execute_result",
          "data": {
            "text/html": [
              "<div>\n",
              "<style scoped>\n",
              "    .dataframe tbody tr th:only-of-type {\n",
              "        vertical-align: middle;\n",
              "    }\n",
              "\n",
              "    .dataframe tbody tr th {\n",
              "        vertical-align: top;\n",
              "    }\n",
              "\n",
              "    .dataframe thead th {\n",
              "        text-align: right;\n",
              "    }\n",
              "</style>\n",
              "<table border=\"1\" class=\"dataframe\">\n",
              "  <thead>\n",
              "    <tr style=\"text-align: right;\">\n",
              "      <th></th>\n",
              "      <th>id</th>\n",
              "      <th>name</th>\n",
              "      <th>host_id</th>\n",
              "      <th>host_name</th>\n",
              "      <th>neighbourhood_group</th>\n",
              "      <th>neighbourhood</th>\n",
              "      <th>latitude</th>\n",
              "      <th>longitude</th>\n",
              "      <th>room_type</th>\n",
              "      <th>price</th>\n",
              "      <th>minimum_nights</th>\n",
              "      <th>number_of_reviews</th>\n",
              "      <th>last_review</th>\n",
              "      <th>reviews_per_month</th>\n",
              "      <th>calculated_host_listings_count</th>\n",
              "      <th>availability_365</th>\n",
              "    </tr>\n",
              "  </thead>\n",
              "  <tbody>\n",
              "    <tr>\n",
              "      <th>0</th>\n",
              "      <td>2015</td>\n",
              "      <td>Berlin-Mitte Value! Quiet courtyard/very central</td>\n",
              "      <td>2217</td>\n",
              "      <td>Ian</td>\n",
              "      <td>Mitte</td>\n",
              "      <td>Brunnenstr. Süd</td>\n",
              "      <td>52.534537</td>\n",
              "      <td>13.402557</td>\n",
              "      <td>Entire home/apt</td>\n",
              "      <td>60</td>\n",
              "      <td>4</td>\n",
              "      <td>118</td>\n",
              "      <td>2018-10-28</td>\n",
              "      <td>3.76</td>\n",
              "      <td>4</td>\n",
              "      <td>141</td>\n",
              "    </tr>\n",
              "    <tr>\n",
              "      <th>2</th>\n",
              "      <td>3176</td>\n",
              "      <td>Fabulous Flat in great Location</td>\n",
              "      <td>3718</td>\n",
              "      <td>Britta</td>\n",
              "      <td>Pankow</td>\n",
              "      <td>Prenzlauer Berg Südwest</td>\n",
              "      <td>52.534996</td>\n",
              "      <td>13.417579</td>\n",
              "      <td>Entire home/apt</td>\n",
              "      <td>90</td>\n",
              "      <td>62</td>\n",
              "      <td>143</td>\n",
              "      <td>2017-03-20</td>\n",
              "      <td>1.25</td>\n",
              "      <td>1</td>\n",
              "      <td>220</td>\n",
              "    </tr>\n",
              "    <tr>\n",
              "      <th>3</th>\n",
              "      <td>3309</td>\n",
              "      <td>BerlinSpot Schöneberg near KaDeWe</td>\n",
              "      <td>4108</td>\n",
              "      <td>Jana</td>\n",
              "      <td>Tempelhof - Schöneberg</td>\n",
              "      <td>Schöneberg-Nord</td>\n",
              "      <td>52.498855</td>\n",
              "      <td>13.349065</td>\n",
              "      <td>Private room</td>\n",
              "      <td>26</td>\n",
              "      <td>5</td>\n",
              "      <td>25</td>\n",
              "      <td>2018-08-16</td>\n",
              "      <td>0.39</td>\n",
              "      <td>1</td>\n",
              "      <td>297</td>\n",
              "    </tr>\n",
              "    <tr>\n",
              "      <th>4</th>\n",
              "      <td>7071</td>\n",
              "      <td>BrightRoom with sunny greenview!</td>\n",
              "      <td>17391</td>\n",
              "      <td>Bright</td>\n",
              "      <td>Pankow</td>\n",
              "      <td>Helmholtzplatz</td>\n",
              "      <td>52.543157</td>\n",
              "      <td>13.415091</td>\n",
              "      <td>Private room</td>\n",
              "      <td>42</td>\n",
              "      <td>2</td>\n",
              "      <td>197</td>\n",
              "      <td>2018-11-04</td>\n",
              "      <td>1.75</td>\n",
              "      <td>1</td>\n",
              "      <td>26</td>\n",
              "    </tr>\n",
              "    <tr>\n",
              "      <th>6</th>\n",
              "      <td>14325</td>\n",
              "      <td>Apartment in Prenzlauer Berg</td>\n",
              "      <td>55531</td>\n",
              "      <td>Chris + Oliver</td>\n",
              "      <td>Pankow</td>\n",
              "      <td>Prenzlauer Berg Nordwest</td>\n",
              "      <td>52.547846</td>\n",
              "      <td>13.405562</td>\n",
              "      <td>Entire home/apt</td>\n",
              "      <td>70</td>\n",
              "      <td>90</td>\n",
              "      <td>23</td>\n",
              "      <td>2018-11-01</td>\n",
              "      <td>0.23</td>\n",
              "      <td>3</td>\n",
              "      <td>129</td>\n",
              "    </tr>\n",
              "    <tr>\n",
              "      <th>...</th>\n",
              "      <td>...</td>\n",
              "      <td>...</td>\n",
              "      <td>...</td>\n",
              "      <td>...</td>\n",
              "      <td>...</td>\n",
              "      <td>...</td>\n",
              "      <td>...</td>\n",
              "      <td>...</td>\n",
              "      <td>...</td>\n",
              "      <td>...</td>\n",
              "      <td>...</td>\n",
              "      <td>...</td>\n",
              "      <td>...</td>\n",
              "      <td>...</td>\n",
              "      <td>...</td>\n",
              "      <td>...</td>\n",
              "    </tr>\n",
              "    <tr>\n",
              "      <th>21412</th>\n",
              "      <td>28490425</td>\n",
              "      <td>Charming house in green surroundings</td>\n",
              "      <td>2489651</td>\n",
              "      <td>Judith</td>\n",
              "      <td>Steglitz - Zehlendorf</td>\n",
              "      <td>Zehlendorf  Nord</td>\n",
              "      <td>52.447487</td>\n",
              "      <td>13.236621</td>\n",
              "      <td>Private room</td>\n",
              "      <td>50</td>\n",
              "      <td>1</td>\n",
              "      <td>10</td>\n",
              "      <td>2018-10-29</td>\n",
              "      <td>6.12</td>\n",
              "      <td>1</td>\n",
              "      <td>136</td>\n",
              "    </tr>\n",
              "    <tr>\n",
              "      <th>21417</th>\n",
              "      <td>28503342</td>\n",
              "      <td>Cozy room with balcony in typical Berlin \"Altbau\"</td>\n",
              "      <td>215141997</td>\n",
              "      <td>Laura</td>\n",
              "      <td>Neukölln</td>\n",
              "      <td>Neuköllner Mitte/Zentrum</td>\n",
              "      <td>52.465538</td>\n",
              "      <td>13.433142</td>\n",
              "      <td>Private room</td>\n",
              "      <td>35</td>\n",
              "      <td>1</td>\n",
              "      <td>12</td>\n",
              "      <td>2018-11-02</td>\n",
              "      <td>7.50</td>\n",
              "      <td>1</td>\n",
              "      <td>69</td>\n",
              "    </tr>\n",
              "    <tr>\n",
              "      <th>21463</th>\n",
              "      <td>28558738</td>\n",
              "      <td>Schönes helles Zimmer direkt am Westend</td>\n",
              "      <td>28831542</td>\n",
              "      <td>Julian</td>\n",
              "      <td>Charlottenburg-Wilm.</td>\n",
              "      <td>Schloß Charlottenburg</td>\n",
              "      <td>52.520938</td>\n",
              "      <td>13.286595</td>\n",
              "      <td>Private room</td>\n",
              "      <td>25</td>\n",
              "      <td>1</td>\n",
              "      <td>11</td>\n",
              "      <td>2018-11-04</td>\n",
              "      <td>7.67</td>\n",
              "      <td>1</td>\n",
              "      <td>9</td>\n",
              "    </tr>\n",
              "    <tr>\n",
              "      <th>21506</th>\n",
              "      <td>28622624</td>\n",
              "      <td>Beautiful Studio with Balcony - City West</td>\n",
              "      <td>168548569</td>\n",
              "      <td>Carlotta</td>\n",
              "      <td>Charlottenburg-Wilm.</td>\n",
              "      <td>Otto-Suhr-Allee</td>\n",
              "      <td>52.513770</td>\n",
              "      <td>13.315498</td>\n",
              "      <td>Entire home/apt</td>\n",
              "      <td>80</td>\n",
              "      <td>1</td>\n",
              "      <td>10</td>\n",
              "      <td>2018-11-04</td>\n",
              "      <td>6.98</td>\n",
              "      <td>1</td>\n",
              "      <td>37</td>\n",
              "    </tr>\n",
              "    <tr>\n",
              "      <th>21837</th>\n",
              "      <td>29029427</td>\n",
              "      <td>Very comfortable and quiet home in central Berlin</td>\n",
              "      <td>158469533</td>\n",
              "      <td>Ahmad</td>\n",
              "      <td>Mitte</td>\n",
              "      <td>Moabit Ost</td>\n",
              "      <td>52.527724</td>\n",
              "      <td>13.351287</td>\n",
              "      <td>Private room</td>\n",
              "      <td>45</td>\n",
              "      <td>2</td>\n",
              "      <td>10</td>\n",
              "      <td>2018-11-01</td>\n",
              "      <td>10.00</td>\n",
              "      <td>1</td>\n",
              "      <td>8</td>\n",
              "    </tr>\n",
              "  </tbody>\n",
              "</table>\n",
              "<p>7769 rows × 16 columns</p>\n",
              "</div>"
            ],
            "text/plain": [
              "             id  ... availability_365\n",
              "0          2015  ...              141\n",
              "2          3176  ...              220\n",
              "3          3309  ...              297\n",
              "4          7071  ...               26\n",
              "6         14325  ...              129\n",
              "...         ...  ...              ...\n",
              "21412  28490425  ...              136\n",
              "21417  28503342  ...               69\n",
              "21463  28558738  ...                9\n",
              "21506  28622624  ...               37\n",
              "21837  29029427  ...                8\n",
              "\n",
              "[7769 rows x 16 columns]"
            ]
          },
          "metadata": {
            "tags": []
          },
          "execution_count": 12
        }
      ]
    },
    {
      "cell_type": "code",
      "metadata": {
        "id": "kbM37HhpIMzo",
        "colab_type": "code",
        "outputId": "4ed0cca3-d97c-44ca-8d94-c3d01b5a89d3",
        "colab": {
          "base_uri": "https://localhost:8080/",
          "height": 489
        }
      },
      "source": [
        "msno.bar(datasets)"
      ],
      "execution_count": 13,
      "outputs": [
        {
          "output_type": "execute_result",
          "data": {
            "text/plain": [
              "<matplotlib.axes._subplots.AxesSubplot at 0x7f15255b05c0>"
            ]
          },
          "metadata": {
            "tags": []
          },
          "execution_count": 13
        },
        {
          "output_type": "display_data",
          "data": {
            "image/png": "[encoded data removed]",
            "text/plain": [
              "<Figure size 1728x720 with 3 Axes>"
            ]
          },
          "metadata": {
            "tags": [],
            "needs_background": "light"
          }
        }
      ]
    },
    {
      "cell_type": "markdown",
      "metadata": {
        "id": "HJ3MOFRVpVIR",
        "colab_type": "text"
      },
      "source": [
        "Label encoding untuk Memproses Category Data\n",
        "\n",
        "\n"
      ]
    },
    {
      "cell_type": "code",
      "metadata": {
        "id": "m80ADgHqTLXL",
        "colab_type": "code",
        "outputId": "5f0eccbf-31da-407c-b8a1-c8aa1a15a0dc",
        "colab": {
          "base_uri": "https://localhost:8080/",
          "height": 272
        }
      },
      "source": [
        "categorical = datasets.dtypes==object\n",
        "categorical_cols = datasets.columns[categorical].tolist()\n",
        "datasets[categorical_cols] = datasets[categorical_cols].apply(lambda col: LabelEncoder().fit_transform(col))\n",
        "datasets[categorical_cols].head()\n",
        "print(datasets)"
      ],
      "execution_count": 14,
      "outputs": [
        {
          "output_type": "stream",
          "text": [
            "             id  name  ...  calculated_host_listings_count  availability_365\n",
            "0          2015  1312  ...                               4               141\n",
            "2          3176  3241  ...                               1               220\n",
            "3          3309  1329  ...                               1               297\n",
            "4          7071  1758  ...                               1                26\n",
            "6         14325   694  ...                               3               129\n",
            "...         ...   ...  ...                             ...               ...\n",
            "21412  28490425  2111  ...                               1               136\n",
            "21417  28503342  2918  ...                               1                69\n",
            "21463  28558738  5775  ...                               1                 9\n",
            "21506  28622624   993  ...                               1                37\n",
            "21837  29029427  6692  ...                               1                 8\n",
            "\n",
            "[7769 rows x 16 columns]\n"
          ],
          "name": "stdout"
        }
      ]
    },
    {
      "cell_type": "markdown",
      "metadata": {
        "id": "WFwWMj4za65q",
        "colab_type": "text"
      },
      "source": [
        " Correlation Matrix untuk memilih atribut yang akan digunakan \n",
        "\n"
      ]
    },
    {
      "cell_type": "code",
      "metadata": {
        "colab_type": "code",
        "outputId": "c1b212d4-2fa2-4595-d2ca-11d5e2bbf442",
        "id": "WbjdhtB7elpC",
        "colab": {
          "base_uri": "https://localhost:8080/",
          "height": 875
        }
      },
      "source": [
        "plt.figure(figsize=(20,20))\n",
        "sns.heatmap(datasets.corr(),\n",
        "            cmap='coolwarm',\n",
        "            annot=True,linewidths=1);\n"
      ],
      "execution_count": 15,
      "outputs": [
        {
          "output_type": "display_data",
          "data": {
            "image/png": "[encoded data removed]",
            "text/plain": [
              "<Figure size 1440x1440 with 2 Axes>"
            ]
          },
          "metadata": {
            "tags": [],
            "needs_background": "light"
          }
        }
      ]
    },
    {
      "cell_type": "code",
      "metadata": {
        "id": "kxVtaw_jkExh",
        "colab_type": "code",
        "outputId": "90c6d34c-5dc0-49f9-8a64-7972cf6d2286",
        "colab": {
          "base_uri": "https://localhost:8080/",
          "height": 272
        }
      },
      "source": [
        "newdata = [\"id\",\"number_of_reviews\",\"reviews_per_month\"]\n",
        "databaru= datasets[newdata]\n",
        "databaru.head()\n",
        "print(databaru)"
      ],
      "execution_count": 16,
      "outputs": [
        {
          "output_type": "stream",
          "text": [
            "             id  number_of_reviews  reviews_per_month\n",
            "0          2015                118               3.76\n",
            "2          3176                143               1.25\n",
            "3          3309                 25               0.39\n",
            "4          7071                197               1.75\n",
            "6         14325                 23               0.23\n",
            "...         ...                ...                ...\n",
            "21412  28490425                 10               6.12\n",
            "21417  28503342                 12               7.50\n",
            "21463  28558738                 11               7.67\n",
            "21506  28622624                 10               6.98\n",
            "21837  29029427                 10              10.00\n",
            "\n",
            "[7769 rows x 3 columns]\n"
          ],
          "name": "stdout"
        }
      ]
    },
    {
      "cell_type": "markdown",
      "metadata": {
        "id": "45teL91CbJld",
        "colab_type": "text"
      },
      "source": [
        "Cek lagi Correlaction antar atribut dengan menggunakan heatmap"
      ]
    },
    {
      "cell_type": "code",
      "metadata": {
        "id": "gxcX9uzJv0gx",
        "colab_type": "code",
        "outputId": "1976c1a6-b1b3-443b-b69a-f50234316072",
        "colab": {
          "base_uri": "https://localhost:8080/",
          "height": 596
        }
      },
      "source": [
        "x,y= plt.subplots( figsize=(10 ,10) )\n",
        "sns.heatmap(databaru.corr(),annot=True,linewidths=1)\n",
        "plt.show()"
      ],
      "execution_count": 17,
      "outputs": [
        {
          "output_type": "display_data",
          "data": {
            "image/png": "[encoded data removed]",
            "text/plain": [
              "<Figure size 720x720 with 2 Axes>"
            ]
          },
          "metadata": {
            "tags": [],
            "needs_background": "light"
          }
        }
      ]
    },
    {
      "cell_type": "code",
      "metadata": {
        "id": "Zr0-0Wn3T0u9",
        "colab_type": "code",
        "outputId": "f4e0e2eb-559b-45e3-be2a-cec8e325d3fb",
        "colab": {
          "base_uri": "https://localhost:8080/",
          "height": 296
        }
      },
      "source": [
        "price = datasets['number_of_reviews']\n",
        "rpm = datasets['reviews_per_month']\n",
        "plt.scatter(price, rpm, c='r', edgecolors='yellow', linewidth=0.19)\n",
        "plt.title('AirBnb')\n",
        "plt.xlabel('number_of_reviews')\n",
        "plt.ylabel('reviews_per_month')\n",
        "plt.show()"
      ],
      "execution_count": 18,
      "outputs": [
        {
          "output_type": "display_data",
          "data": {
            "image/png": "[encoded data removed]",
            "text/plain": [
              "<Figure size 432x288 with 1 Axes>"
            ]
          },
          "metadata": {
            "tags": [],
            "needs_background": "light"
          }
        }
      ]
    },
    {
      "cell_type": "markdown",
      "metadata": {
        "id": "qt32I0QDbUCj",
        "colab_type": "text"
      },
      "source": [
        "Boxplot digunakan untuk mencari outlier yaitu data yang menyimpang dari sekumpulan data yang lain"
      ]
    },
    {
      "cell_type": "code",
      "metadata": {
        "id": "Y1P2duytTlaQ",
        "colab_type": "code",
        "outputId": "a7a0f6aa-4ba3-4534-c19c-002fc9cf28e6",
        "colab": {
          "base_uri": "https://localhost:8080/",
          "height": 285
        }
      },
      "source": [
        "databaru.boxplot(column=[\"number_of_reviews\"])"
      ],
      "execution_count": 19,
      "outputs": [
        {
          "output_type": "execute_result",
          "data": {
            "text/plain": [
              "<matplotlib.axes._subplots.AxesSubplot at 0x7f151fa600b8>"
            ]
          },
          "metadata": {
            "tags": []
          },
          "execution_count": 19
        },
        {
          "output_type": "display_data",
          "data": {
            "image/png": "[encoded data removed]",
            "text/plain": [
              "<Figure size 432x288 with 1 Axes>"
            ]
          },
          "metadata": {
            "tags": [],
            "needs_background": "light"
          }
        }
      ]
    },
    {
      "cell_type": "code",
      "metadata": {
        "id": "KhFBS5KzUext",
        "colab_type": "code",
        "colab": {}
      },
      "source": [
        "databaru.drop(databaru[databaru.number_of_reviews >= 100].index ,inplace =True)"
      ],
      "execution_count": 0,
      "outputs": []
    },
    {
      "cell_type": "code",
      "metadata": {
        "id": "CVSvBlnXIM84",
        "colab_type": "code",
        "outputId": "2bbe1dd3-ffcd-414c-aa74-f515b4a7d5aa",
        "colab": {
          "base_uri": "https://localhost:8080/",
          "height": 407
        }
      },
      "source": [
        "databaru"
      ],
      "execution_count": 21,
      "outputs": [
        {
          "output_type": "execute_result",
          "data": {
            "text/html": [
              "<div>\n",
              "<style scoped>\n",
              "    .dataframe tbody tr th:only-of-type {\n",
              "        vertical-align: middle;\n",
              "    }\n",
              "\n",
              "    .dataframe tbody tr th {\n",
              "        vertical-align: top;\n",
              "    }\n",
              "\n",
              "    .dataframe thead th {\n",
              "        text-align: right;\n",
              "    }\n",
              "</style>\n",
              "<table border=\"1\" class=\"dataframe\">\n",
              "  <thead>\n",
              "    <tr style=\"text-align: right;\">\n",
              "      <th></th>\n",
              "      <th>id</th>\n",
              "      <th>number_of_reviews</th>\n",
              "      <th>reviews_per_month</th>\n",
              "    </tr>\n",
              "  </thead>\n",
              "  <tbody>\n",
              "    <tr>\n",
              "      <th>3</th>\n",
              "      <td>3309</td>\n",
              "      <td>25</td>\n",
              "      <td>0.39</td>\n",
              "    </tr>\n",
              "    <tr>\n",
              "      <th>6</th>\n",
              "      <td>14325</td>\n",
              "      <td>23</td>\n",
              "      <td>0.23</td>\n",
              "    </tr>\n",
              "    <tr>\n",
              "      <th>8</th>\n",
              "      <td>16644</td>\n",
              "      <td>48</td>\n",
              "      <td>0.47</td>\n",
              "    </tr>\n",
              "    <tr>\n",
              "      <th>11</th>\n",
              "      <td>20858</td>\n",
              "      <td>56</td>\n",
              "      <td>0.75</td>\n",
              "    </tr>\n",
              "    <tr>\n",
              "      <th>12</th>\n",
              "      <td>21869</td>\n",
              "      <td>60</td>\n",
              "      <td>0.61</td>\n",
              "    </tr>\n",
              "    <tr>\n",
              "      <th>...</th>\n",
              "      <td>...</td>\n",
              "      <td>...</td>\n",
              "      <td>...</td>\n",
              "    </tr>\n",
              "    <tr>\n",
              "      <th>21412</th>\n",
              "      <td>28490425</td>\n",
              "      <td>10</td>\n",
              "      <td>6.12</td>\n",
              "    </tr>\n",
              "    <tr>\n",
              "      <th>21417</th>\n",
              "      <td>28503342</td>\n",
              "      <td>12</td>\n",
              "      <td>7.50</td>\n",
              "    </tr>\n",
              "    <tr>\n",
              "      <th>21463</th>\n",
              "      <td>28558738</td>\n",
              "      <td>11</td>\n",
              "      <td>7.67</td>\n",
              "    </tr>\n",
              "    <tr>\n",
              "      <th>21506</th>\n",
              "      <td>28622624</td>\n",
              "      <td>10</td>\n",
              "      <td>6.98</td>\n",
              "    </tr>\n",
              "    <tr>\n",
              "      <th>21837</th>\n",
              "      <td>29029427</td>\n",
              "      <td>10</td>\n",
              "      <td>10.00</td>\n",
              "    </tr>\n",
              "  </tbody>\n",
              "</table>\n",
              "<p>6911 rows × 3 columns</p>\n",
              "</div>"
            ],
            "text/plain": [
              "             id  number_of_reviews  reviews_per_month\n",
              "3          3309                 25               0.39\n",
              "6         14325                 23               0.23\n",
              "8         16644                 48               0.47\n",
              "11        20858                 56               0.75\n",
              "12        21869                 60               0.61\n",
              "...         ...                ...                ...\n",
              "21412  28490425                 10               6.12\n",
              "21417  28503342                 12               7.50\n",
              "21463  28558738                 11               7.67\n",
              "21506  28622624                 10               6.98\n",
              "21837  29029427                 10              10.00\n",
              "\n",
              "[6911 rows x 3 columns]"
            ]
          },
          "metadata": {
            "tags": []
          },
          "execution_count": 21
        }
      ]
    },
    {
      "cell_type": "code",
      "metadata": {
        "colab_type": "code",
        "outputId": "48a3e192-a4dd-4f39-d9c1-4e6a7384145e",
        "id": "7vMa8dnktTge",
        "colab": {
          "base_uri": "https://localhost:8080/",
          "height": 285
        }
      },
      "source": [
        "databaru.boxplot(column=[\"reviews_per_month\"])"
      ],
      "execution_count": 22,
      "outputs": [
        {
          "output_type": "execute_result",
          "data": {
            "text/plain": [
              "<matplotlib.axes._subplots.AxesSubplot at 0x7f15255a59b0>"
            ]
          },
          "metadata": {
            "tags": []
          },
          "execution_count": 22
        },
        {
          "output_type": "display_data",
          "data": {
            "image/png": "[encoded data removed]",
            "text/plain": [
              "<Figure size 432x288 with 1 Axes>"
            ]
          },
          "metadata": {
            "tags": [],
            "needs_background": "light"
          }
        }
      ]
    },
    {
      "cell_type": "code",
      "metadata": {
        "id": "0nOfT9TiyfP7",
        "colab_type": "code",
        "colab": {}
      },
      "source": [
        "databaru.drop(databaru[databaru.reviews_per_month > 3].index ,inplace =True)"
      ],
      "execution_count": 0,
      "outputs": []
    },
    {
      "cell_type": "code",
      "metadata": {
        "id": "4fIFODWQWKp2",
        "colab_type": "code",
        "outputId": "e1a4d04f-7fce-4cc9-a52c-705ab612a4f3",
        "colab": {
          "base_uri": "https://localhost:8080/",
          "height": 407
        }
      },
      "source": [
        "databaru"
      ],
      "execution_count": 24,
      "outputs": [
        {
          "output_type": "execute_result",
          "data": {
            "text/html": [
              "<div>\n",
              "<style scoped>\n",
              "    .dataframe tbody tr th:only-of-type {\n",
              "        vertical-align: middle;\n",
              "    }\n",
              "\n",
              "    .dataframe tbody tr th {\n",
              "        vertical-align: top;\n",
              "    }\n",
              "\n",
              "    .dataframe thead th {\n",
              "        text-align: right;\n",
              "    }\n",
              "</style>\n",
              "<table border=\"1\" class=\"dataframe\">\n",
              "  <thead>\n",
              "    <tr style=\"text-align: right;\">\n",
              "      <th></th>\n",
              "      <th>id</th>\n",
              "      <th>number_of_reviews</th>\n",
              "      <th>reviews_per_month</th>\n",
              "    </tr>\n",
              "  </thead>\n",
              "  <tbody>\n",
              "    <tr>\n",
              "      <th>3</th>\n",
              "      <td>3309</td>\n",
              "      <td>25</td>\n",
              "      <td>0.39</td>\n",
              "    </tr>\n",
              "    <tr>\n",
              "      <th>6</th>\n",
              "      <td>14325</td>\n",
              "      <td>23</td>\n",
              "      <td>0.23</td>\n",
              "    </tr>\n",
              "    <tr>\n",
              "      <th>8</th>\n",
              "      <td>16644</td>\n",
              "      <td>48</td>\n",
              "      <td>0.47</td>\n",
              "    </tr>\n",
              "    <tr>\n",
              "      <th>11</th>\n",
              "      <td>20858</td>\n",
              "      <td>56</td>\n",
              "      <td>0.75</td>\n",
              "    </tr>\n",
              "    <tr>\n",
              "      <th>12</th>\n",
              "      <td>21869</td>\n",
              "      <td>60</td>\n",
              "      <td>0.61</td>\n",
              "    </tr>\n",
              "    <tr>\n",
              "      <th>...</th>\n",
              "      <td>...</td>\n",
              "      <td>...</td>\n",
              "      <td>...</td>\n",
              "    </tr>\n",
              "    <tr>\n",
              "      <th>20114</th>\n",
              "      <td>26808026</td>\n",
              "      <td>11</td>\n",
              "      <td>2.92</td>\n",
              "    </tr>\n",
              "    <tr>\n",
              "      <th>20120</th>\n",
              "      <td>26812711</td>\n",
              "      <td>10</td>\n",
              "      <td>2.59</td>\n",
              "    </tr>\n",
              "    <tr>\n",
              "      <th>20180</th>\n",
              "      <td>26905918</td>\n",
              "      <td>10</td>\n",
              "      <td>2.65</td>\n",
              "    </tr>\n",
              "    <tr>\n",
              "      <th>20367</th>\n",
              "      <td>27165606</td>\n",
              "      <td>10</td>\n",
              "      <td>2.80</td>\n",
              "    </tr>\n",
              "    <tr>\n",
              "      <th>20410</th>\n",
              "      <td>27227889</td>\n",
              "      <td>10</td>\n",
              "      <td>2.91</td>\n",
              "    </tr>\n",
              "  </tbody>\n",
              "</table>\n",
              "<p>5756 rows × 3 columns</p>\n",
              "</div>"
            ],
            "text/plain": [
              "             id  number_of_reviews  reviews_per_month\n",
              "3          3309                 25               0.39\n",
              "6         14325                 23               0.23\n",
              "8         16644                 48               0.47\n",
              "11        20858                 56               0.75\n",
              "12        21869                 60               0.61\n",
              "...         ...                ...                ...\n",
              "20114  26808026                 11               2.92\n",
              "20120  26812711                 10               2.59\n",
              "20180  26905918                 10               2.65\n",
              "20367  27165606                 10               2.80\n",
              "20410  27227889                 10               2.91\n",
              "\n",
              "[5756 rows x 3 columns]"
            ]
          },
          "metadata": {
            "tags": []
          },
          "execution_count": 24
        }
      ]
    },
    {
      "cell_type": "markdown",
      "metadata": {
        "id": "I2uafUyAbcg2",
        "colab_type": "text"
      },
      "source": [
        "Melakukan Feature Scaling pada Dataset yang bertujuan untuk membuat numerical data pada dataset memiliki rentang nilai (scale) yang sama."
      ]
    },
    {
      "cell_type": "code",
      "metadata": {
        "id": "-Yg7J6tZAbRl",
        "colab_type": "code",
        "outputId": "fe923732-c82d-4ae8-ec8c-1dd031e2d15e",
        "colab": {
          "base_uri": "https://localhost:8080/",
          "height": 407
        }
      },
      "source": [
        "mms = MinMaxScaler()\n",
        "scaler = mms.fit_transform(databaru)\n",
        "col_new = [\"id\",\"number_of_reviews\",\"reviews_per_month\"]\n",
        "datascalling = pd.DataFrame(scaler,columns=col_new)\n",
        "datascalling"
      ],
      "execution_count": 25,
      "outputs": [
        {
          "output_type": "execute_result",
          "data": {
            "text/html": [
              "<div>\n",
              "<style scoped>\n",
              "    .dataframe tbody tr th:only-of-type {\n",
              "        vertical-align: middle;\n",
              "    }\n",
              "\n",
              "    .dataframe tbody tr th {\n",
              "        vertical-align: top;\n",
              "    }\n",
              "\n",
              "    .dataframe thead th {\n",
              "        text-align: right;\n",
              "    }\n",
              "</style>\n",
              "<table border=\"1\" class=\"dataframe\">\n",
              "  <thead>\n",
              "    <tr style=\"text-align: right;\">\n",
              "      <th></th>\n",
              "      <th>id</th>\n",
              "      <th>number_of_reviews</th>\n",
              "      <th>reviews_per_month</th>\n",
              "    </tr>\n",
              "  </thead>\n",
              "  <tbody>\n",
              "    <tr>\n",
              "      <th>0</th>\n",
              "      <td>0.000000</td>\n",
              "      <td>0.168539</td>\n",
              "      <td>0.093750</td>\n",
              "    </tr>\n",
              "    <tr>\n",
              "      <th>1</th>\n",
              "      <td>0.000405</td>\n",
              "      <td>0.146067</td>\n",
              "      <td>0.038194</td>\n",
              "    </tr>\n",
              "    <tr>\n",
              "      <th>2</th>\n",
              "      <td>0.000490</td>\n",
              "      <td>0.426966</td>\n",
              "      <td>0.121528</td>\n",
              "    </tr>\n",
              "    <tr>\n",
              "      <th>3</th>\n",
              "      <td>0.000645</td>\n",
              "      <td>0.516854</td>\n",
              "      <td>0.218750</td>\n",
              "    </tr>\n",
              "    <tr>\n",
              "      <th>4</th>\n",
              "      <td>0.000682</td>\n",
              "      <td>0.561798</td>\n",
              "      <td>0.170139</td>\n",
              "    </tr>\n",
              "    <tr>\n",
              "      <th>...</th>\n",
              "      <td>...</td>\n",
              "      <td>...</td>\n",
              "      <td>...</td>\n",
              "    </tr>\n",
              "    <tr>\n",
              "      <th>5751</th>\n",
              "      <td>0.984578</td>\n",
              "      <td>0.011236</td>\n",
              "      <td>0.972222</td>\n",
              "    </tr>\n",
              "    <tr>\n",
              "      <th>5752</th>\n",
              "      <td>0.984750</td>\n",
              "      <td>0.000000</td>\n",
              "      <td>0.857639</td>\n",
              "    </tr>\n",
              "    <tr>\n",
              "      <th>5753</th>\n",
              "      <td>0.988174</td>\n",
              "      <td>0.000000</td>\n",
              "      <td>0.878472</td>\n",
              "    </tr>\n",
              "    <tr>\n",
              "      <th>5754</th>\n",
              "      <td>0.997712</td>\n",
              "      <td>0.000000</td>\n",
              "      <td>0.930556</td>\n",
              "    </tr>\n",
              "    <tr>\n",
              "      <th>5755</th>\n",
              "      <td>1.000000</td>\n",
              "      <td>0.000000</td>\n",
              "      <td>0.968750</td>\n",
              "    </tr>\n",
              "  </tbody>\n",
              "</table>\n",
              "<p>5756 rows × 3 columns</p>\n",
              "</div>"
            ],
            "text/plain": [
              "            id  number_of_reviews  reviews_per_month\n",
              "0     0.000000           0.168539           0.093750\n",
              "1     0.000405           0.146067           0.038194\n",
              "2     0.000490           0.426966           0.121528\n",
              "3     0.000645           0.516854           0.218750\n",
              "4     0.000682           0.561798           0.170139\n",
              "...        ...                ...                ...\n",
              "5751  0.984578           0.011236           0.972222\n",
              "5752  0.984750           0.000000           0.857639\n",
              "5753  0.988174           0.000000           0.878472\n",
              "5754  0.997712           0.000000           0.930556\n",
              "5755  1.000000           0.000000           0.968750\n",
              "\n",
              "[5756 rows x 3 columns]"
            ]
          },
          "metadata": {
            "tags": []
          },
          "execution_count": 25
        }
      ]
    },
    {
      "cell_type": "markdown",
      "metadata": {
        "id": "-udXK9EzN0qe",
        "colab_type": "text"
      },
      "source": [
        "Dataset Hasil Explorasi"
      ]
    },
    {
      "cell_type": "code",
      "metadata": {
        "id": "psSCtfvmNtT2",
        "colab_type": "code",
        "colab": {}
      },
      "source": [
        "datascalling.to_csv('Prep_airbnb.csv')"
      ],
      "execution_count": 0,
      "outputs": []
    },
    {
      "cell_type": "markdown",
      "metadata": {
        "id": "lXelQtmsxiRU",
        "colab_type": "text"
      },
      "source": [
        "Langkah-langkah Clustering"
      ]
    },
    {
      "cell_type": "markdown",
      "metadata": {
        "id": "fM8CIM1pdVT6",
        "colab_type": "text"
      },
      "source": [
        "1.   Langkah 1: Tentukan berapa banyak cluster k dari dataset yang akan dibagi.\n",
        "2.   Langkah 2: Tetapkan secara acak data k menjadi pusat awal lokasi klaster.\n",
        "3.   Langkah 3: Untuk masing-masing data, temukan pusat cluster terdekat. Dengan demikian berarti masing-masing pusat cluster memiliki sebuah subset dari dataset, sehingga mewakili bagian dari dataset. Oleh karena itu, telah terbentuk cluster k: C1, C2, C3, …, Ck .\n",
        "4. Langkah 4: Untuk masing-masing cluster k, temukan pusat luasan klaster, dan perbarui lokasi dari masing-masing  pusat cluster ke nilai baru dari  pusat luasan.\n",
        "5. Langkah 5: Ulangi langkah ke-3 dan ke-5 hingga data-data pada tiap cluster menjadi terpusat atau selesai.\n"
      ]
    },
    {
      "cell_type": "markdown",
      "metadata": {
        "id": "bnTJSLMimRov",
        "colab_type": "text"
      },
      "source": [
        "CLustering menggunakan data yang telah di Scale"
      ]
    },
    {
      "cell_type": "markdown",
      "metadata": {
        "id": "ko1OAEWiW96n",
        "colab_type": "text"
      },
      "source": [
        " Metode Elbow"
      ]
    },
    {
      "cell_type": "code",
      "metadata": {
        "id": "uhFY9jp7hDQE",
        "colab_type": "code",
        "outputId": "2fbd1267-698c-4bc4-eae0-ea16c015b74d",
        "colab": {
          "base_uri": "https://localhost:8080/",
          "height": 422
        }
      },
      "source": [
        "from sklearn.cluster import KMeans\n",
        "SSE = []\n",
        "for cluster in range(1,10):\n",
        "    kmeans = KMeans( n_clusters = cluster)\n",
        "    kmeans.fit(datascalling)\n",
        "    SSE.append(kmeans.inertia_)\n",
        "\n",
        "frame = pd.DataFrame({'Cluster':range(1,10), 'SSE':SSE})\n",
        "plt.figure(figsize=(12,6))\n",
        "plt.plot(frame['Cluster'], frame['SSE'], marker='o')\n",
        "plt.title('Optimal number of Cluster')\n",
        "plt.xlabel('K number')\n",
        "plt.ylabel('Sum of Squarred errors')"
      ],
      "execution_count": 27,
      "outputs": [
        {
          "output_type": "execute_result",
          "data": {
            "text/plain": [
              "Text(0, 0.5, 'Sum of Squarred errors')"
            ]
          },
          "metadata": {
            "tags": []
          },
          "execution_count": 27
        },
        {
          "output_type": "display_data",
          "data": {
            "image/png": "[encoded data removed]",
            "text/plain": [
              "<Figure size 864x432 with 1 Axes>"
            ]
          },
          "metadata": {
            "tags": [],
            "needs_background": "light"
          }
        }
      ]
    },
    {
      "cell_type": "markdown",
      "metadata": {
        "id": "NBhwo6s7Zo1u",
        "colab_type": "text"
      },
      "source": [
        "Clustering Menggunakan K-Means dengan Scalling"
      ]
    },
    {
      "cell_type": "markdown",
      "metadata": {
        "id": "rSETOBFBfoMB",
        "colab_type": "text"
      },
      "source": [
        "# Clustering Model 1 "
      ]
    },
    {
      "cell_type": "code",
      "metadata": {
        "id": "qjAaK5YxINGc",
        "colab_type": "code",
        "outputId": "416c1940-ffd2-4c0b-a734-124a933debc4",
        "colab": {
          "base_uri": "https://localhost:8080/",
          "height": 296
        }
      },
      "source": [
        "kmeans = KMeans(n_clusters = 3)\n",
        "kmeans = kmeans.fit(datascalling)\n",
        "labels = kmeans.predict(datascalling)\n",
        "newscale = datascalling[[\"reviews_per_month\",\"number_of_reviews\"]]\n",
        "K=5\n",
        "Centroids = (newscale.sample(K))\n",
        "plt.scatter(newscale[\"reviews_per_month\"],newscale[\"number_of_reviews\"],c='black')\n",
        "plt.scatter(Centroids[\"reviews_per_month\"],Centroids[\"number_of_reviews\"],c='red')\n",
        "plt.title('Air Bnb')\n",
        "plt.xlabel('reviews_per_month')\n",
        "plt.ylabel('number_of_reviews')\n",
        "plt.show()"
      ],
      "execution_count": 28,
      "outputs": [
        {
          "output_type": "display_data",
          "data": {
            "image/png": "[encoded data removed]",
            "text/plain": [
              "<Figure size 432x288 with 1 Axes>"
            ]
          },
          "metadata": {
            "tags": [],
            "needs_background": "light"
          }
        }
      ]
    },
    {
      "cell_type": "code",
      "metadata": {
        "id": "DD_K1vpHINIl",
        "colab_type": "code",
        "outputId": "01c5ee85-01dd-4187-fdbd-f773c98aa3da",
        "colab": {
          "base_uri": "https://localhost:8080/",
          "height": 508
        }
      },
      "source": [
        "diff = 1\n",
        "j=0\n",
        "Centroids = (newscale.sample(K))\n",
        "while(diff!=0):\n",
        "    XD=newscale\n",
        "    i=1\n",
        "    for index1,row_centro in Centroids.iterrows():\n",
        "      list1=[]\n",
        "      for index2,row_centro1 in XD.iterrows():\n",
        "        distance1 = (row_centro[\"reviews_per_month\"]-row_centro1[\"reviews_per_month\"])**2 \n",
        "        distance2 = (row_centro[\"number_of_reviews\"]-row_centro1[\"number_of_reviews\"])**2\n",
        "        distance = np.sqrt(distance1+distance2)\n",
        "        list1.append(distance)\n",
        "      newscale[i]=list1\n",
        "      i=i+1\n",
        "\n",
        "    list2=[]\n",
        "    for index2,row in newscale.iterrows():\n",
        "      min_dist=row[1]\n",
        "      index3=1\n",
        "      for i in range(K):\n",
        "        if row[i+1] < min_dist:\n",
        "          min_dist = row[i+1]\n",
        "          index3=i+1\n",
        "      list2.append(index3)\n",
        "    newscale[\"Cluster\"]=list2\n",
        "    Centroids_new = newscale.groupby([\"Cluster\"]).mean()[[\"number_of_reviews\",\"reviews_per_month\"]]\n",
        "    if j == 0:\n",
        "        diff=1\n",
        "        j=j+1\n",
        "    else:\n",
        "      diff = (Centroids_new['number_of_reviews'] - Centroids['number_of_reviews']).sum() + (Centroids_new['reviews_per_month'] - Centroids['reviews_per_month']).sum()\n",
        "      print(diff.sum())\n",
        "    Centroids = newscale.groupby([\"Cluster\"]).mean()[[\"number_of_reviews\",\"reviews_per_month\"]]"
      ],
      "execution_count": 29,
      "outputs": [
        {
          "output_type": "stream",
          "text": [
            "0.2301240701044861\n",
            "0.23719051314506256\n",
            "0.25222198809039087\n",
            "0.21424457743165873\n",
            "0.18123761569800823\n",
            "0.13603664523432557\n",
            "0.11573597114705754\n",
            "0.0962455592038646\n",
            "0.0814422394012112\n",
            "0.06083791041438531\n",
            "0.04858560999653083\n",
            "0.0291412899975472\n",
            "0.019202062315401114\n",
            "0.016694879842667654\n",
            "0.014765542521538305\n",
            "0.01172030213582717\n",
            "0.009871416252918638\n",
            "0.005670100248425999\n",
            "0.004637731791477986\n",
            "0.004866196310028187\n",
            "0.004730738506748017\n",
            "0.002353088466260478\n",
            "0.002948743490008468\n",
            "0.002192092447637309\n",
            "0.0014718990708865454\n",
            "0.0010097137205819506\n",
            "0.0\n"
          ],
          "name": "stdout"
        }
      ]
    },
    {
      "cell_type": "code",
      "metadata": {
        "id": "MuxA1MYEINLE",
        "colab_type": "code",
        "outputId": "bd1573e7-c0ed-471f-fe31-9b28b358d077",
        "colab": {
          "base_uri": "https://localhost:8080/",
          "height": 298
        }
      },
      "source": [
        "color=['red','cyan','black','yellow','blue']\n",
        "print(K)\n",
        "for i in range(K):\n",
        "    data=newscale[newscale[\"Cluster\"]==i]\n",
        "    plt.scatter(data[\"reviews_per_month\"],data[\"number_of_reviews\"],c=color[i])\n",
        "plt.scatter(Centroids[\"reviews_per_month\"],Centroids[\"number_of_reviews\"],c='red')\n",
        "plt.xlabel('review_per_month')\n",
        "plt.ylabel('number_of_reviews')\n",
        "plt.show()"
      ],
      "execution_count": 30,
      "outputs": [
        {
          "output_type": "stream",
          "text": [
            "5\n"
          ],
          "name": "stdout"
        },
        {
          "output_type": "display_data",
          "data": {
            "image/png": "[encoded data removed]",
            "text/plain": [
              "<Figure size 432x288 with 1 Axes>"
            ]
          },
          "metadata": {
            "tags": [],
            "needs_background": "light"
          }
        }
      ]
    },
    {
      "cell_type": "code",
      "metadata": {
        "id": "B-sPOyb2Hp1E",
        "colab_type": "code",
        "outputId": "a5e71678-cf44-4c18-b4f4-aebb0a3d8bbe",
        "colab": {
          "base_uri": "https://localhost:8080/",
          "height": 407
        }
      },
      "source": [
        "frame = pd.DataFrame(datascalling)\n",
        "frame['cluster'] = labels\n",
        "frame['cluster']\n",
        "frame\n",
        "\n",
        "datascalling.loc[datascalling['cluster']==0,'cluster'] = 'Tidak Bagus'\n",
        "datascalling.loc[datascalling['cluster']==1,'cluster'] = 'Kurang Bagus'\n",
        "datascalling.loc[datascalling['cluster']==2,'cluster'] = 'Bagus'\n",
        "\n",
        "datascalling"
      ],
      "execution_count": 31,
      "outputs": [
        {
          "output_type": "execute_result",
          "data": {
            "text/html": [
              "<div>\n",
              "<style scoped>\n",
              "    .dataframe tbody tr th:only-of-type {\n",
              "        vertical-align: middle;\n",
              "    }\n",
              "\n",
              "    .dataframe tbody tr th {\n",
              "        vertical-align: top;\n",
              "    }\n",
              "\n",
              "    .dataframe thead th {\n",
              "        text-align: right;\n",
              "    }\n",
              "</style>\n",
              "<table border=\"1\" class=\"dataframe\">\n",
              "  <thead>\n",
              "    <tr style=\"text-align: right;\">\n",
              "      <th></th>\n",
              "      <th>id</th>\n",
              "      <th>number_of_reviews</th>\n",
              "      <th>reviews_per_month</th>\n",
              "      <th>cluster</th>\n",
              "    </tr>\n",
              "  </thead>\n",
              "  <tbody>\n",
              "    <tr>\n",
              "      <th>0</th>\n",
              "      <td>0.000000</td>\n",
              "      <td>0.168539</td>\n",
              "      <td>0.093750</td>\n",
              "      <td>Bagus</td>\n",
              "    </tr>\n",
              "    <tr>\n",
              "      <th>1</th>\n",
              "      <td>0.000405</td>\n",
              "      <td>0.146067</td>\n",
              "      <td>0.038194</td>\n",
              "      <td>Bagus</td>\n",
              "    </tr>\n",
              "    <tr>\n",
              "      <th>2</th>\n",
              "      <td>0.000490</td>\n",
              "      <td>0.426966</td>\n",
              "      <td>0.121528</td>\n",
              "      <td>Bagus</td>\n",
              "    </tr>\n",
              "    <tr>\n",
              "      <th>3</th>\n",
              "      <td>0.000645</td>\n",
              "      <td>0.516854</td>\n",
              "      <td>0.218750</td>\n",
              "      <td>Kurang Bagus</td>\n",
              "    </tr>\n",
              "    <tr>\n",
              "      <th>4</th>\n",
              "      <td>0.000682</td>\n",
              "      <td>0.561798</td>\n",
              "      <td>0.170139</td>\n",
              "      <td>Kurang Bagus</td>\n",
              "    </tr>\n",
              "    <tr>\n",
              "      <th>...</th>\n",
              "      <td>...</td>\n",
              "      <td>...</td>\n",
              "      <td>...</td>\n",
              "      <td>...</td>\n",
              "    </tr>\n",
              "    <tr>\n",
              "      <th>5751</th>\n",
              "      <td>0.984578</td>\n",
              "      <td>0.011236</td>\n",
              "      <td>0.972222</td>\n",
              "      <td>Tidak Bagus</td>\n",
              "    </tr>\n",
              "    <tr>\n",
              "      <th>5752</th>\n",
              "      <td>0.984750</td>\n",
              "      <td>0.000000</td>\n",
              "      <td>0.857639</td>\n",
              "      <td>Tidak Bagus</td>\n",
              "    </tr>\n",
              "    <tr>\n",
              "      <th>5753</th>\n",
              "      <td>0.988174</td>\n",
              "      <td>0.000000</td>\n",
              "      <td>0.878472</td>\n",
              "      <td>Tidak Bagus</td>\n",
              "    </tr>\n",
              "    <tr>\n",
              "      <th>5754</th>\n",
              "      <td>0.997712</td>\n",
              "      <td>0.000000</td>\n",
              "      <td>0.930556</td>\n",
              "      <td>Tidak Bagus</td>\n",
              "    </tr>\n",
              "    <tr>\n",
              "      <th>5755</th>\n",
              "      <td>1.000000</td>\n",
              "      <td>0.000000</td>\n",
              "      <td>0.968750</td>\n",
              "      <td>Tidak Bagus</td>\n",
              "    </tr>\n",
              "  </tbody>\n",
              "</table>\n",
              "<p>5756 rows × 4 columns</p>\n",
              "</div>"
            ],
            "text/plain": [
              "            id  number_of_reviews  reviews_per_month       cluster\n",
              "0     0.000000           0.168539           0.093750         Bagus\n",
              "1     0.000405           0.146067           0.038194         Bagus\n",
              "2     0.000490           0.426966           0.121528         Bagus\n",
              "3     0.000645           0.516854           0.218750  Kurang Bagus\n",
              "4     0.000682           0.561798           0.170139  Kurang Bagus\n",
              "...        ...                ...                ...           ...\n",
              "5751  0.984578           0.011236           0.972222   Tidak Bagus\n",
              "5752  0.984750           0.000000           0.857639   Tidak Bagus\n",
              "5753  0.988174           0.000000           0.878472   Tidak Bagus\n",
              "5754  0.997712           0.000000           0.930556   Tidak Bagus\n",
              "5755  1.000000           0.000000           0.968750   Tidak Bagus\n",
              "\n",
              "[5756 rows x 4 columns]"
            ]
          },
          "metadata": {
            "tags": []
          },
          "execution_count": 31
        }
      ]
    },
    {
      "cell_type": "code",
      "metadata": {
        "id": "7Ic6zCf_wZYq",
        "colab_type": "code",
        "colab": {
          "base_uri": "https://localhost:8080/",
          "height": 108
        },
        "outputId": "44aeb063-7ed1-48ed-da4c-7e9fac0381d9"
      },
      "source": [
        "datascalling.groupby(\"cluster\").size()"
      ],
      "execution_count": 32,
      "outputs": [
        {
          "output_type": "execute_result",
          "data": {
            "text/plain": [
              "cluster\n",
              "Bagus           2346\n",
              "Kurang Bagus     986\n",
              "Tidak Bagus     2424\n",
              "dtype: int64"
            ]
          },
          "metadata": {
            "tags": []
          },
          "execution_count": 32
        }
      ]
    },
    {
      "cell_type": "markdown",
      "metadata": {
        "id": "vmpYvQCMxV0X",
        "colab_type": "text"
      },
      "source": [
        "Selesai melakukan Cluster dan memberi Labelnya aku mengexport hasilnya dalam bentuk csv"
      ]
    },
    {
      "cell_type": "code",
      "metadata": {
        "id": "mVMxtT50wpPs",
        "colab_type": "code",
        "colab": {}
      },
      "source": [
        "datascalling.to_csv('clusterdenganscalling.csv')"
      ],
      "execution_count": 0,
      "outputs": []
    },
    {
      "cell_type": "markdown",
      "metadata": {
        "id": "nNjvjJOYc3Gz",
        "colab_type": "text"
      },
      "source": [
        "# Clustering Model 2\n"
      ]
    },
    {
      "cell_type": "markdown",
      "metadata": {
        "id": "MQTE6p7-dBKb",
        "colab_type": "text"
      },
      "source": [
        "Clustering Menggunakan K-Means tanpa Scalling"
      ]
    },
    {
      "cell_type": "markdown",
      "metadata": {
        "id": "iJXmm8niW18K",
        "colab_type": "text"
      },
      "source": [
        "Metode ELBOW"
      ]
    },
    {
      "cell_type": "code",
      "metadata": {
        "id": "ONqv4-iAcCDd",
        "colab_type": "code",
        "outputId": "a7d49ca9-18e0-4353-fb1a-484e011c85a0",
        "colab": {
          "base_uri": "https://localhost:8080/",
          "height": 422
        }
      },
      "source": [
        "from sklearn.cluster import KMeans\n",
        "SSE = []\n",
        "for cluster in range(1,10):\n",
        "    kmeans = KMeans(n_clusters = cluster)\n",
        "    kmeans.fit(databaru)\n",
        "    SSE.append(kmeans.inertia_)\n",
        "\n",
        "frame = pd.DataFrame({'Cluster':range(1,10), 'SSE':SSE})\n",
        "plt.figure(figsize=(12,6))\n",
        "plt.plot(frame['Cluster'], frame['SSE'], marker='o')\n",
        "plt.title('Optimal number of Cluster')\n",
        "plt.xlabel('K number')\n",
        "plt.ylabel('Square Distances')"
      ],
      "execution_count": 34,
      "outputs": [
        {
          "output_type": "execute_result",
          "data": {
            "text/plain": [
              "Text(0, 0.5, 'Square Distances')"
            ]
          },
          "metadata": {
            "tags": []
          },
          "execution_count": 34
        },
        {
          "output_type": "display_data",
          "data": {
            "image/png": "[encoded data removed]",
            "text/plain": [
              "<Figure size 864x432 with 1 Axes>"
            ]
          },
          "metadata": {
            "tags": [],
            "needs_background": "light"
          }
        }
      ]
    },
    {
      "cell_type": "markdown",
      "metadata": {
        "id": "NLPNtYcpnvmX",
        "colab_type": "text"
      },
      "source": [
        "Clustering Model 2 tanpa Scalling\n",
        "\n",
        "\n",
        "\n"
      ]
    },
    {
      "cell_type": "code",
      "metadata": {
        "id": "ZqSnyVvzxoK6",
        "colab_type": "code",
        "outputId": "74b38e6d-4363-49d8-848d-2338d92e5f3e",
        "colab": {
          "base_uri": "https://localhost:8080/",
          "height": 296
        }
      },
      "source": [
        "kmeans = KMeans(n_clusters=3)\n",
        "kmeans = kmeans.fit(databaru)\n",
        "labels = kmeans.predict(databaru)\n",
        "databaru1 = databaru[[\"reviews_per_month\",\"number_of_reviews\"]]\n",
        "K=5\n",
        "Centroids1 = (databaru1.sample(K))\n",
        "plt.scatter(databaru1[\"reviews_per_month\"],databaru1[\"number_of_reviews\"],c='black')\n",
        "plt.scatter(Centroids1[\"reviews_per_month\"],Centroids1[\"number_of_reviews\"],c='red')\n",
        "plt.title('Airbnb')\n",
        "plt.xlabel('reviews_per_month')\n",
        "plt.ylabel('number_of_reviews')\n",
        "plt.show()"
      ],
      "execution_count": 35,
      "outputs": [
        {
          "output_type": "display_data",
          "data": {
            "image/png": "[encoded data removed]",
            "text/plain": [
              "<Figure size 432x288 with 1 Axes>"
            ]
          },
          "metadata": {
            "tags": [],
            "needs_background": "light"
          }
        }
      ]
    },
    {
      "cell_type": "code",
      "metadata": {
        "id": "JsaDPThJxsV6",
        "colab_type": "code",
        "outputId": "70fe91c9-a5f5-4534-9026-25d9ada21e2f",
        "colab": {
          "base_uri": "https://localhost:8080/",
          "height": 308
        }
      },
      "source": [
        "\n",
        "diff = 1\n",
        "j=0\n",
        "Centroids1 = (databaru1.sample(K))\n",
        "while(diff!=0):\n",
        "    XD=databaru1\n",
        "    i=1\n",
        "    for index1,row_centro in Centroids1.iterrows():\n",
        "      list1=[]\n",
        "      for index2,row_centro1 in XD.iterrows():\n",
        "        distance1 = (row_centro[\"reviews_per_month\"]-row_centro1[\"reviews_per_month\"])**2 \n",
        "        distance2 = (row_centro[\"number_of_reviews\"]-row_centro1[\"number_of_reviews\"])**2\n",
        "        distance = np.sqrt(distance1+distance2)\n",
        "        list1.append(distance)\n",
        "      databaru1[i]=list1\n",
        "      i=i+1\n",
        "\n",
        "    list2=[]\n",
        "    for index2,row in databaru1.iterrows():\n",
        "      min_dist=row[1]\n",
        "      index3=1\n",
        "      for i in range(K):\n",
        "        if row[i+1] < min_dist:\n",
        "          min_dist = row[i+1]\n",
        "          index3=i+1\n",
        "      list2.append(index3)\n",
        "    databaru1[\"Cluster\"]=list2\n",
        "    Centroids_new = databaru1.groupby([\"Cluster\"]).mean()[[\"number_of_reviews\",\"reviews_per_month\"]]\n",
        "    if j == 0:\n",
        "        diff=1\n",
        "        j=j+1\n",
        "    else:\n",
        "      diff = (Centroids_new['number_of_reviews'] - Centroids1['number_of_reviews']).sum() + (Centroids_new['reviews_per_month'] - Centroids1['reviews_per_month']).sum()\n",
        "      print(diff.sum())\n",
        "    Centroids1 = databaru1.groupby([\"Cluster\"]).mean()[[\"number_of_reviews\",\"reviews_per_month\"]]"
      ],
      "execution_count": 44,
      "outputs": [
        {
          "output_type": "stream",
          "text": [
            "7.656926382678051\n",
            "5.215941371661641\n",
            "4.4699743978686595\n",
            "3.965184054752215\n",
            "3.133380472679804\n",
            "3.3489455886362567\n",
            "2.6474488036325403\n",
            "2.769956570335033\n",
            "1.707128726308187\n",
            "2.0510419894308427\n",
            "1.781507191929897\n",
            "2.0128947118482197\n",
            "1.0616635191898793\n",
            "1.0372341302508654\n",
            "0.9949576985594686\n",
            "0.0\n"
          ],
          "name": "stdout"
        }
      ]
    },
    {
      "cell_type": "code",
      "metadata": {
        "id": "lMlWPSRXxuqc",
        "colab_type": "code",
        "colab": {
          "base_uri": "https://localhost:8080/",
          "height": 280
        },
        "outputId": "8a8d189e-1a17-47d5-a591-3e318efa5a4c"
      },
      "source": [
        "color=['green','cyan','black','yellow','red']\n",
        "for i in range(K):\n",
        "    data=databaru[databaru1[\"Cluster\"]==i]\n",
        "    plt.scatter(data[\"reviews_per_month\"],data[\"number_of_reviews\"],c=color[i])\n",
        "plt.scatter(Centroids1[\"reviews_per_month\"],Centroids1[\"number_of_reviews\"],c='blue')\n",
        "plt.xlabel('number_of_reviews')\n",
        "plt.ylabel('Review per month')\n",
        "plt.show()"
      ],
      "execution_count": 46,
      "outputs": [
        {
          "output_type": "display_data",
          "data": {
            "image/png": "[encoded data removed]",
            "text/plain": [
              "<Figure size 432x288 with 1 Axes>"
            ]
          },
          "metadata": {
            "tags": [],
            "needs_background": "light"
          }
        }
      ]
    },
    {
      "cell_type": "code",
      "metadata": {
        "id": "3K2npAQ_rT_K",
        "colab_type": "code",
        "outputId": "28165b3f-f183-42a4-ac20-9c53e98202b3",
        "colab": {
          "base_uri": "https://localhost:8080/",
          "height": 407
        }
      },
      "source": [
        "frame = pd.DataFrame(databaru)\n",
        "frame['cluster'] = labels\n",
        "frame\n",
        "\n",
        "\n",
        "databaru.loc[databaru['cluster']==0,'cluster'] = 'Tidak Bagus'\n",
        "databaru.loc[databaru['cluster']==1,'cluster'] = 'Kurang Bagus'\n",
        "databaru.loc[databaru['cluster']==2,'cluster'] = 'Bagus'\n",
        "databaru"
      ],
      "execution_count": 47,
      "outputs": [
        {
          "output_type": "execute_result",
          "data": {
            "text/html": [
              "<div>\n",
              "<style scoped>\n",
              "    .dataframe tbody tr th:only-of-type {\n",
              "        vertical-align: middle;\n",
              "    }\n",
              "\n",
              "    .dataframe tbody tr th {\n",
              "        vertical-align: top;\n",
              "    }\n",
              "\n",
              "    .dataframe thead th {\n",
              "        text-align: right;\n",
              "    }\n",
              "</style>\n",
              "<table border=\"1\" class=\"dataframe\">\n",
              "  <thead>\n",
              "    <tr style=\"text-align: right;\">\n",
              "      <th></th>\n",
              "      <th>id</th>\n",
              "      <th>number_of_reviews</th>\n",
              "      <th>reviews_per_month</th>\n",
              "      <th>cluster</th>\n",
              "    </tr>\n",
              "  </thead>\n",
              "  <tbody>\n",
              "    <tr>\n",
              "      <th>3</th>\n",
              "      <td>3309</td>\n",
              "      <td>25</td>\n",
              "      <td>0.39</td>\n",
              "      <td>Tidak Bagus</td>\n",
              "    </tr>\n",
              "    <tr>\n",
              "      <th>6</th>\n",
              "      <td>14325</td>\n",
              "      <td>23</td>\n",
              "      <td>0.23</td>\n",
              "      <td>Tidak Bagus</td>\n",
              "    </tr>\n",
              "    <tr>\n",
              "      <th>8</th>\n",
              "      <td>16644</td>\n",
              "      <td>48</td>\n",
              "      <td>0.47</td>\n",
              "      <td>Tidak Bagus</td>\n",
              "    </tr>\n",
              "    <tr>\n",
              "      <th>11</th>\n",
              "      <td>20858</td>\n",
              "      <td>56</td>\n",
              "      <td>0.75</td>\n",
              "      <td>Tidak Bagus</td>\n",
              "    </tr>\n",
              "    <tr>\n",
              "      <th>12</th>\n",
              "      <td>21869</td>\n",
              "      <td>60</td>\n",
              "      <td>0.61</td>\n",
              "      <td>Tidak Bagus</td>\n",
              "    </tr>\n",
              "    <tr>\n",
              "      <th>...</th>\n",
              "      <td>...</td>\n",
              "      <td>...</td>\n",
              "      <td>...</td>\n",
              "      <td>...</td>\n",
              "    </tr>\n",
              "    <tr>\n",
              "      <th>20114</th>\n",
              "      <td>26808026</td>\n",
              "      <td>11</td>\n",
              "      <td>2.92</td>\n",
              "      <td>Bagus</td>\n",
              "    </tr>\n",
              "    <tr>\n",
              "      <th>20120</th>\n",
              "      <td>26812711</td>\n",
              "      <td>10</td>\n",
              "      <td>2.59</td>\n",
              "      <td>Bagus</td>\n",
              "    </tr>\n",
              "    <tr>\n",
              "      <th>20180</th>\n",
              "      <td>26905918</td>\n",
              "      <td>10</td>\n",
              "      <td>2.65</td>\n",
              "      <td>Bagus</td>\n",
              "    </tr>\n",
              "    <tr>\n",
              "      <th>20367</th>\n",
              "      <td>27165606</td>\n",
              "      <td>10</td>\n",
              "      <td>2.80</td>\n",
              "      <td>Bagus</td>\n",
              "    </tr>\n",
              "    <tr>\n",
              "      <th>20410</th>\n",
              "      <td>27227889</td>\n",
              "      <td>10</td>\n",
              "      <td>2.91</td>\n",
              "      <td>Bagus</td>\n",
              "    </tr>\n",
              "  </tbody>\n",
              "</table>\n",
              "<p>5756 rows × 4 columns</p>\n",
              "</div>"
            ],
            "text/plain": [
              "             id  number_of_reviews  reviews_per_month      cluster\n",
              "3          3309                 25               0.39  Tidak Bagus\n",
              "6         14325                 23               0.23  Tidak Bagus\n",
              "8         16644                 48               0.47  Tidak Bagus\n",
              "11        20858                 56               0.75  Tidak Bagus\n",
              "12        21869                 60               0.61  Tidak Bagus\n",
              "...         ...                ...                ...          ...\n",
              "20114  26808026                 11               2.92        Bagus\n",
              "20120  26812711                 10               2.59        Bagus\n",
              "20180  26905918                 10               2.65        Bagus\n",
              "20367  27165606                 10               2.80        Bagus\n",
              "20410  27227889                 10               2.91        Bagus\n",
              "\n",
              "[5756 rows x 4 columns]"
            ]
          },
          "metadata": {
            "tags": []
          },
          "execution_count": 47
        }
      ]
    },
    {
      "cell_type": "code",
      "metadata": {
        "id": "jyI1in2TFX_U",
        "colab_type": "code",
        "colab": {
          "base_uri": "https://localhost:8080/",
          "height": 108
        },
        "outputId": "4e2cca61-f86c-4ebb-ce9d-ea5fe173c991"
      },
      "source": [
        "databaru.groupby(\"cluster\").size()"
      ],
      "execution_count": 48,
      "outputs": [
        {
          "output_type": "execute_result",
          "data": {
            "text/plain": [
              "cluster\n",
              "Bagus           1924\n",
              "Kurang Bagus    1661\n",
              "Tidak Bagus     2171\n",
              "dtype: int64"
            ]
          },
          "metadata": {
            "tags": []
          },
          "execution_count": 48
        }
      ]
    },
    {
      "cell_type": "markdown",
      "metadata": {
        "id": "DFsiLYpATDZv",
        "colab_type": "text"
      },
      "source": [
        "Selesai melakukan Cluster dan memberi Labelnya aku mengexport hasilnya dalam bentuk csv"
      ]
    },
    {
      "cell_type": "code",
      "metadata": {
        "id": "bHG-zVufh82z",
        "colab_type": "code",
        "colab": {}
      },
      "source": [
        "databaru.to_csv('clustertanpascalling.csv')"
      ],
      "execution_count": 0,
      "outputs": []
    },
    {
      "cell_type": "markdown",
      "metadata": {
        "id": "2nAyiD_jiLhI",
        "colab_type": "text"
      },
      "source": [
        "# Classification"
      ]
    },
    {
      "cell_type": "markdown",
      "metadata": {
        "id": "OK7jPQp5iP79",
        "colab_type": "text"
      },
      "source": [
        "**Split Dataset 80% Train 20% Test**\n",
        "\n"
      ]
    },
    {
      "cell_type": "code",
      "metadata": {
        "id": "9Y762ktMjZo6",
        "colab_type": "code",
        "colab": {
          "base_uri": "https://localhost:8080/",
          "height": 407
        },
        "outputId": "4f2acfbe-8527-4592-9158-d9875f708832"
      },
      "source": [
        "datascalling"
      ],
      "execution_count": 51,
      "outputs": [
        {
          "output_type": "execute_result",
          "data": {
            "text/html": [
              "<div>\n",
              "<style scoped>\n",
              "    .dataframe tbody tr th:only-of-type {\n",
              "        vertical-align: middle;\n",
              "    }\n",
              "\n",
              "    .dataframe tbody tr th {\n",
              "        vertical-align: top;\n",
              "    }\n",
              "\n",
              "    .dataframe thead th {\n",
              "        text-align: right;\n",
              "    }\n",
              "</style>\n",
              "<table border=\"1\" class=\"dataframe\">\n",
              "  <thead>\n",
              "    <tr style=\"text-align: right;\">\n",
              "      <th></th>\n",
              "      <th>id</th>\n",
              "      <th>number_of_reviews</th>\n",
              "      <th>reviews_per_month</th>\n",
              "      <th>cluster</th>\n",
              "    </tr>\n",
              "  </thead>\n",
              "  <tbody>\n",
              "    <tr>\n",
              "      <th>0</th>\n",
              "      <td>0.000000</td>\n",
              "      <td>0.168539</td>\n",
              "      <td>0.093750</td>\n",
              "      <td>Bagus</td>\n",
              "    </tr>\n",
              "    <tr>\n",
              "      <th>1</th>\n",
              "      <td>0.000405</td>\n",
              "      <td>0.146067</td>\n",
              "      <td>0.038194</td>\n",
              "      <td>Bagus</td>\n",
              "    </tr>\n",
              "    <tr>\n",
              "      <th>2</th>\n",
              "      <td>0.000490</td>\n",
              "      <td>0.426966</td>\n",
              "      <td>0.121528</td>\n",
              "      <td>Bagus</td>\n",
              "    </tr>\n",
              "    <tr>\n",
              "      <th>3</th>\n",
              "      <td>0.000645</td>\n",
              "      <td>0.516854</td>\n",
              "      <td>0.218750</td>\n",
              "      <td>Kurang Bagus</td>\n",
              "    </tr>\n",
              "    <tr>\n",
              "      <th>4</th>\n",
              "      <td>0.000682</td>\n",
              "      <td>0.561798</td>\n",
              "      <td>0.170139</td>\n",
              "      <td>Kurang Bagus</td>\n",
              "    </tr>\n",
              "    <tr>\n",
              "      <th>...</th>\n",
              "      <td>...</td>\n",
              "      <td>...</td>\n",
              "      <td>...</td>\n",
              "      <td>...</td>\n",
              "    </tr>\n",
              "    <tr>\n",
              "      <th>5751</th>\n",
              "      <td>0.984578</td>\n",
              "      <td>0.011236</td>\n",
              "      <td>0.972222</td>\n",
              "      <td>Tidak Bagus</td>\n",
              "    </tr>\n",
              "    <tr>\n",
              "      <th>5752</th>\n",
              "      <td>0.984750</td>\n",
              "      <td>0.000000</td>\n",
              "      <td>0.857639</td>\n",
              "      <td>Tidak Bagus</td>\n",
              "    </tr>\n",
              "    <tr>\n",
              "      <th>5753</th>\n",
              "      <td>0.988174</td>\n",
              "      <td>0.000000</td>\n",
              "      <td>0.878472</td>\n",
              "      <td>Tidak Bagus</td>\n",
              "    </tr>\n",
              "    <tr>\n",
              "      <th>5754</th>\n",
              "      <td>0.997712</td>\n",
              "      <td>0.000000</td>\n",
              "      <td>0.930556</td>\n",
              "      <td>Tidak Bagus</td>\n",
              "    </tr>\n",
              "    <tr>\n",
              "      <th>5755</th>\n",
              "      <td>1.000000</td>\n",
              "      <td>0.000000</td>\n",
              "      <td>0.968750</td>\n",
              "      <td>Tidak Bagus</td>\n",
              "    </tr>\n",
              "  </tbody>\n",
              "</table>\n",
              "<p>5756 rows × 4 columns</p>\n",
              "</div>"
            ],
            "text/plain": [
              "            id  number_of_reviews  reviews_per_month       cluster\n",
              "0     0.000000           0.168539           0.093750         Bagus\n",
              "1     0.000405           0.146067           0.038194         Bagus\n",
              "2     0.000490           0.426966           0.121528         Bagus\n",
              "3     0.000645           0.516854           0.218750  Kurang Bagus\n",
              "4     0.000682           0.561798           0.170139  Kurang Bagus\n",
              "...        ...                ...                ...           ...\n",
              "5751  0.984578           0.011236           0.972222   Tidak Bagus\n",
              "5752  0.984750           0.000000           0.857639   Tidak Bagus\n",
              "5753  0.988174           0.000000           0.878472   Tidak Bagus\n",
              "5754  0.997712           0.000000           0.930556   Tidak Bagus\n",
              "5755  1.000000           0.000000           0.968750   Tidak Bagus\n",
              "\n",
              "[5756 rows x 4 columns]"
            ]
          },
          "metadata": {
            "tags": []
          },
          "execution_count": 51
        }
      ]
    },
    {
      "cell_type": "code",
      "metadata": {
        "id": "oQ460T4YnkTd",
        "colab_type": "code",
        "colab": {}
      },
      "source": [
        "x = datascalling[['number_of_reviews','reviews_per_month']]\n",
        "y = datascalling[['cluster']]\n"
      ],
      "execution_count": 0,
      "outputs": []
    },
    {
      "cell_type": "code",
      "metadata": {
        "id": "R_YQWWN7i6gl",
        "colab_type": "code",
        "colab": {}
      },
      "source": [
        "X_train, X_test, y_train, y_test = train_test_split(x,y, test_size = 0.2)"
      ],
      "execution_count": 0,
      "outputs": []
    },
    {
      "cell_type": "markdown",
      "metadata": {
        "id": "54-4h36Kra6S",
        "colab_type": "text"
      },
      "source": [
        "# Model 1 Klasifikasi dengan Naive Bayes untuk Task 2"
      ]
    },
    {
      "cell_type": "code",
      "metadata": {
        "id": "cv7HMQ5Yi6ui",
        "colab_type": "code",
        "colab": {
          "base_uri": "https://localhost:8080/",
          "height": 54
        },
        "outputId": "4f217abc-b05d-415a-beb2-5e49fb6aa366"
      },
      "source": [
        "# Import Gaussian Naive Bayes model\n",
        "from sklearn.naive_bayes import GaussianNB\n",
        "\n",
        "#Buat model Gaussian Classifier\n",
        "model = GaussianNB()\n",
        "\n",
        "#Latih model menggunakan data latih\n",
        "model.fit(X_train, y_train)\n",
        "\n",
        "#Prediksi respons untuk dataset uji\n",
        "y_pred_NB = model.predict(X_test)\n",
        "y_pred_NB"
      ],
      "execution_count": 54,
      "outputs": [
        {
          "output_type": "execute_result",
          "data": {
            "text/plain": [
              "array(['Kurang Bagus', 'Bagus', 'Tidak Bagus', ..., 'Tidak Bagus',\n",
              "       'Bagus', 'Bagus'], dtype='<U12')"
            ]
          },
          "metadata": {
            "tags": []
          },
          "execution_count": 54
        }
      ]
    },
    {
      "cell_type": "markdown",
      "metadata": {
        "id": "NpzKqLa7v_Wi",
        "colab_type": "text"
      },
      "source": [
        "Akurasi Naive Bayes"
      ]
    },
    {
      "cell_type": "code",
      "metadata": {
        "id": "5HIfbFWpsuwi",
        "colab_type": "code",
        "colab": {
          "base_uri": "https://localhost:8080/",
          "height": 308
        },
        "outputId": "dd97f3d0-6043-47d5-e6e9-d317fdea837f"
      },
      "source": [
        "from sklearn import metrics\n",
        "from sklearn.metrics import confusion_matrix \n",
        "from sklearn.metrics import accuracy_score \n",
        "from sklearn.metrics import classification_report \n",
        "\n",
        "\n",
        "\n",
        "y_true = y_test\n",
        "results = confusion_matrix(y_true, y_pred_NB) \n",
        "print('Confusion Matrix :')\n",
        "print(results) \n",
        "print('Accuracy Score :',accuracy_score(y_true, y_pred_NB))\n",
        "print('Report : ')\n",
        "print(classification_report(y_true, y_pred_NB))"
      ],
      "execution_count": 55,
      "outputs": [
        {
          "output_type": "stream",
          "text": [
            "Confusion Matrix :\n",
            "[[418  10  23]\n",
            " [  0 191   9]\n",
            " [132  28 341]]\n",
            "Accuracy Score : 0.8246527777777778\n",
            "Report : \n",
            "              precision    recall  f1-score   support\n",
            "\n",
            "       Bagus       0.76      0.93      0.84       451\n",
            "Kurang Bagus       0.83      0.95      0.89       200\n",
            " Tidak Bagus       0.91      0.68      0.78       501\n",
            "\n",
            "    accuracy                           0.82      1152\n",
            "   macro avg       0.84      0.85      0.84      1152\n",
            "weighted avg       0.84      0.82      0.82      1152\n",
            "\n"
          ],
          "name": "stdout"
        }
      ]
    },
    {
      "cell_type": "markdown",
      "metadata": {
        "id": "9L3_8wgyzSvM",
        "colab_type": "text"
      },
      "source": [
        "# Model 2 Klasifikasi dengan ID3 untuk Task 2"
      ]
    },
    {
      "cell_type": "code",
      "metadata": {
        "id": "Sf1V-Nx1i621",
        "colab_type": "code",
        "colab": {
          "base_uri": "https://localhost:8080/",
          "height": 54
        },
        "outputId": "234ac46b-42ec-4b97-b722-b14510589c9f"
      },
      "source": [
        "from sklearn.tree import DecisionTreeClassifier\n",
        "model_dt = DecisionTreeClassifier(criterion='entropy')\n",
        "model_dt.fit(X_train,y_train)\n",
        "y_pred_ID3 = model_dt.predict(X_test)\n",
        "y_pred_ID3"
      ],
      "execution_count": 56,
      "outputs": [
        {
          "output_type": "execute_result",
          "data": {
            "text/plain": [
              "array(['Kurang Bagus', 'Bagus', 'Tidak Bagus', ..., 'Tidak Bagus',\n",
              "       'Bagus', 'Tidak Bagus'], dtype=object)"
            ]
          },
          "metadata": {
            "tags": []
          },
          "execution_count": 56
        }
      ]
    },
    {
      "cell_type": "markdown",
      "metadata": {
        "id": "7EI13TVX4Cdg",
        "colab_type": "text"
      },
      "source": [
        "Akurasi ID3"
      ]
    },
    {
      "cell_type": "code",
      "metadata": {
        "id": "VNJLbghii66a",
        "colab_type": "code",
        "colab": {
          "base_uri": "https://localhost:8080/",
          "height": 308
        },
        "outputId": "3277523a-3405-43f7-cb46-d3f643c64408"
      },
      "source": [
        "y_true = y_test\n",
        "results = confusion_matrix(y_true, y_pred_ID3) \n",
        "print('Confusion Matrix :')\n",
        "print(results) \n",
        "print('Accuracy Score :',accuracy_score(y_true, y_pred_ID3))\n",
        "print('Report : ')\n",
        "print(classification_report(y_true, y_pred_ID3))"
      ],
      "execution_count": 57,
      "outputs": [
        {
          "output_type": "stream",
          "text": [
            "Confusion Matrix :\n",
            "[[428   2  21]\n",
            " [  0 191   9]\n",
            " [ 32   9 460]]\n",
            "Accuracy Score : 0.9366319444444444\n",
            "Report : \n",
            "              precision    recall  f1-score   support\n",
            "\n",
            "       Bagus       0.93      0.95      0.94       451\n",
            "Kurang Bagus       0.95      0.95      0.95       200\n",
            " Tidak Bagus       0.94      0.92      0.93       501\n",
            "\n",
            "    accuracy                           0.94      1152\n",
            "   macro avg       0.94      0.94      0.94      1152\n",
            "weighted avg       0.94      0.94      0.94      1152\n",
            "\n"
          ],
          "name": "stdout"
        }
      ]
    },
    {
      "cell_type": "code",
      "metadata": {
        "id": "dTWdcK_LXVBX",
        "colab_type": "code",
        "colab": {
          "base_uri": "https://localhost:8080/",
          "height": 35
        },
        "outputId": "b4ef1837-5cb5-46be-c525-abecad77d0ab"
      },
      "source": [
        "from sklearn import metrics\n",
        "print(\"Akurasi :\",metrics.accuracy_score(y_true, y_pred_NB))"
      ],
      "execution_count": 58,
      "outputs": [
        {
          "output_type": "stream",
          "text": [
            "Akurasi : 0.8246527777777778\n"
          ],
          "name": "stdout"
        }
      ]
    },
    {
      "cell_type": "markdown",
      "metadata": {
        "id": "NIsRbOzrXI2b",
        "colab_type": "text"
      },
      "source": [
        "# Evaluasi 2 Model"
      ]
    },
    {
      "cell_type": "markdown",
      "metadata": {
        "id": "Qu6_vKHn4P6I",
        "colab_type": "text"
      },
      "source": [
        "Perbandingan Hasil Akurasi"
      ]
    },
    {
      "cell_type": "code",
      "metadata": {
        "id": "TWhZiwVJ4PHK",
        "colab_type": "code",
        "colab": {
          "base_uri": "https://localhost:8080/",
          "height": 407
        },
        "outputId": "2efe92e1-e93f-47d6-e9dc-23e56caeebff"
      },
      "source": [
        "result_class = pd.DataFrame({\n",
        "    'Hasil Sebenarnya': y_true['cluster'],\n",
        "    'Naive Bayes': y_pred_NB,\n",
        "    'ID3' : y_pred_ID3\n",
        "})\n",
        "\n",
        "result_class"
      ],
      "execution_count": 59,
      "outputs": [
        {
          "output_type": "execute_result",
          "data": {
            "text/html": [
              "<div>\n",
              "<style scoped>\n",
              "    .dataframe tbody tr th:only-of-type {\n",
              "        vertical-align: middle;\n",
              "    }\n",
              "\n",
              "    .dataframe tbody tr th {\n",
              "        vertical-align: top;\n",
              "    }\n",
              "\n",
              "    .dataframe thead th {\n",
              "        text-align: right;\n",
              "    }\n",
              "</style>\n",
              "<table border=\"1\" class=\"dataframe\">\n",
              "  <thead>\n",
              "    <tr style=\"text-align: right;\">\n",
              "      <th></th>\n",
              "      <th>Hasil Sebenarnya</th>\n",
              "      <th>Naive Bayes</th>\n",
              "      <th>ID3</th>\n",
              "    </tr>\n",
              "  </thead>\n",
              "  <tbody>\n",
              "    <tr>\n",
              "      <th>2351</th>\n",
              "      <td>Kurang Bagus</td>\n",
              "      <td>Kurang Bagus</td>\n",
              "      <td>Kurang Bagus</td>\n",
              "    </tr>\n",
              "    <tr>\n",
              "      <th>886</th>\n",
              "      <td>Bagus</td>\n",
              "      <td>Bagus</td>\n",
              "      <td>Bagus</td>\n",
              "    </tr>\n",
              "    <tr>\n",
              "      <th>5065</th>\n",
              "      <td>Tidak Bagus</td>\n",
              "      <td>Tidak Bagus</td>\n",
              "      <td>Tidak Bagus</td>\n",
              "    </tr>\n",
              "    <tr>\n",
              "      <th>5103</th>\n",
              "      <td>Tidak Bagus</td>\n",
              "      <td>Tidak Bagus</td>\n",
              "      <td>Tidak Bagus</td>\n",
              "    </tr>\n",
              "    <tr>\n",
              "      <th>2949</th>\n",
              "      <td>Kurang Bagus</td>\n",
              "      <td>Kurang Bagus</td>\n",
              "      <td>Tidak Bagus</td>\n",
              "    </tr>\n",
              "    <tr>\n",
              "      <th>...</th>\n",
              "      <td>...</td>\n",
              "      <td>...</td>\n",
              "      <td>...</td>\n",
              "    </tr>\n",
              "    <tr>\n",
              "      <th>3720</th>\n",
              "      <td>Tidak Bagus</td>\n",
              "      <td>Tidak Bagus</td>\n",
              "      <td>Tidak Bagus</td>\n",
              "    </tr>\n",
              "    <tr>\n",
              "      <th>2540</th>\n",
              "      <td>Bagus</td>\n",
              "      <td>Bagus</td>\n",
              "      <td>Bagus</td>\n",
              "    </tr>\n",
              "    <tr>\n",
              "      <th>5472</th>\n",
              "      <td>Tidak Bagus</td>\n",
              "      <td>Tidak Bagus</td>\n",
              "      <td>Tidak Bagus</td>\n",
              "    </tr>\n",
              "    <tr>\n",
              "      <th>58</th>\n",
              "      <td>Bagus</td>\n",
              "      <td>Bagus</td>\n",
              "      <td>Bagus</td>\n",
              "    </tr>\n",
              "    <tr>\n",
              "      <th>3809</th>\n",
              "      <td>Tidak Bagus</td>\n",
              "      <td>Bagus</td>\n",
              "      <td>Tidak Bagus</td>\n",
              "    </tr>\n",
              "  </tbody>\n",
              "</table>\n",
              "<p>1152 rows × 3 columns</p>\n",
              "</div>"
            ],
            "text/plain": [
              "     Hasil Sebenarnya   Naive Bayes           ID3\n",
              "2351     Kurang Bagus  Kurang Bagus  Kurang Bagus\n",
              "886             Bagus         Bagus         Bagus\n",
              "5065      Tidak Bagus   Tidak Bagus   Tidak Bagus\n",
              "5103      Tidak Bagus   Tidak Bagus   Tidak Bagus\n",
              "2949     Kurang Bagus  Kurang Bagus   Tidak Bagus\n",
              "...               ...           ...           ...\n",
              "3720      Tidak Bagus   Tidak Bagus   Tidak Bagus\n",
              "2540            Bagus         Bagus         Bagus\n",
              "5472      Tidak Bagus   Tidak Bagus   Tidak Bagus\n",
              "58              Bagus         Bagus         Bagus\n",
              "3809      Tidak Bagus         Bagus   Tidak Bagus\n",
              "\n",
              "[1152 rows x 3 columns]"
            ]
          },
          "metadata": {
            "tags": []
          },
          "execution_count": 59
        }
      ]
    },
    {
      "cell_type": "markdown",
      "metadata": {
        "id": "x7xqcceLv8FM",
        "colab_type": "text"
      },
      "source": [
        "Tidak menggunakan data Scalling"
      ]
    },
    {
      "cell_type": "code",
      "metadata": {
        "id": "yizIFSAjwJDO",
        "colab_type": "code",
        "colab": {}
      },
      "source": [
        "x1 = databaru[['number_of_reviews','reviews_per_month']]\n",
        "y1 = databaru[['cluster']]"
      ],
      "execution_count": 0,
      "outputs": []
    },
    {
      "cell_type": "code",
      "metadata": {
        "id": "7FuZB_pM0UOQ",
        "colab_type": "code",
        "colab": {}
      },
      "source": [
        "X1_train, X_test, y_train, y_test = train_test_split(x1,y1, test_size = 0.2)"
      ],
      "execution_count": 0,
      "outputs": []
    },
    {
      "cell_type": "markdown",
      "metadata": {
        "id": "jE7Y8uevVby0",
        "colab_type": "text"
      },
      "source": [
        "# Model 1 Klasifikasi dengan Naive Bayes untuk Task 2 ( Tanpa Scalling)"
      ]
    },
    {
      "cell_type": "code",
      "metadata": {
        "id": "ZPx0TK5xwgUd",
        "colab_type": "code",
        "colab": {
          "base_uri": "https://localhost:8080/",
          "height": 54
        },
        "outputId": "bf486e3d-991b-4325-b018-22063790dd0f"
      },
      "source": [
        "# Import Gaussian Naive Bayes model\n",
        "from sklearn.naive_bayes import GaussianNB\n",
        "\n",
        "#Buat model Gaussian Classifier\n",
        "model = GaussianNB()\n",
        "\n",
        "#Latih model menggunakan data latih\n",
        "model.fit(X_train, y_train)\n",
        "\n",
        "#Prediksi respons untuk dataset uji\n",
        "y_pred_NB = model.predict(X_test)\n",
        "y_pred_NB"
      ],
      "execution_count": 62,
      "outputs": [
        {
          "output_type": "execute_result",
          "data": {
            "text/plain": [
              "array(['Kurang Bagus', 'Kurang Bagus', 'Kurang Bagus', ...,\n",
              "       'Kurang Bagus', 'Kurang Bagus', 'Kurang Bagus'], dtype='<U12')"
            ]
          },
          "metadata": {
            "tags": []
          },
          "execution_count": 62
        }
      ]
    },
    {
      "cell_type": "markdown",
      "metadata": {
        "id": "wyeq0zQuXDL3",
        "colab_type": "text"
      },
      "source": [
        "Akurasi \n"
      ]
    },
    {
      "cell_type": "code",
      "metadata": {
        "id": "hbep-Iz6wp-z",
        "colab_type": "code",
        "colab": {
          "base_uri": "https://localhost:8080/",
          "height": 308
        },
        "outputId": "8fcf414a-44ab-47fc-acaa-1d8c0ed343b8"
      },
      "source": [
        "from sklearn import metrics\n",
        "from sklearn.metrics import confusion_matrix \n",
        "from sklearn.metrics import accuracy_score \n",
        "from sklearn.metrics import classification_report \n",
        "\n",
        "\n",
        "y_true = y_test\n",
        "results = confusion_matrix(y_true, y_pred_NB) \n",
        "print('Confusion Matrix :')\n",
        "print(results) \n",
        "print('Accuracy Score :',accuracy_score(y_true, y_pred_NB))\n",
        "print('Report : ')\n",
        "print(classification_report(y_true, y_pred_NB))"
      ],
      "execution_count": 63,
      "outputs": [
        {
          "output_type": "stream",
          "text": [
            "Confusion Matrix :\n",
            "[[  0 413   0]\n",
            " [  0 345   0]\n",
            " [  0 394   0]]\n",
            "Accuracy Score : 0.2994791666666667\n",
            "Report : \n",
            "              precision    recall  f1-score   support\n",
            "\n",
            "       Bagus       0.00      0.00      0.00       413\n",
            "Kurang Bagus       0.30      1.00      0.46       345\n",
            " Tidak Bagus       0.00      0.00      0.00       394\n",
            "\n",
            "    accuracy                           0.30      1152\n",
            "   macro avg       0.10      0.33      0.15      1152\n",
            "weighted avg       0.09      0.30      0.14      1152\n",
            "\n"
          ],
          "name": "stdout"
        }
      ]
    },
    {
      "cell_type": "markdown",
      "metadata": {
        "id": "QMaRlGf1X0dY",
        "colab_type": "text"
      },
      "source": [
        "Model 1 Klasifikasi dengan ID3 untuk Task 2 ( Tanpa Scalling)\n"
      ]
    },
    {
      "cell_type": "code",
      "metadata": {
        "id": "r45vtEN2i60e",
        "colab_type": "code",
        "colab": {
          "base_uri": "https://localhost:8080/",
          "height": 54
        },
        "outputId": "eb04bef8-afd3-4985-9dd2-e372a0509254"
      },
      "source": [
        "from sklearn.tree import DecisionTreeClassifier\n",
        "model_dt = DecisionTreeClassifier(criterion='entropy')\n",
        "model_dt.fit(X_train,y_train)\n",
        "y_pred_ID3 = model_dt.predict(X_test)\n",
        "y_pred_ID3"
      ],
      "execution_count": 64,
      "outputs": [
        {
          "output_type": "execute_result",
          "data": {
            "text/plain": [
              "array(['Kurang Bagus', 'Bagus', 'Bagus', ..., 'Bagus', 'Bagus',\n",
              "       'Kurang Bagus'], dtype=object)"
            ]
          },
          "metadata": {
            "tags": []
          },
          "execution_count": 64
        }
      ]
    },
    {
      "cell_type": "markdown",
      "metadata": {
        "id": "OD2AiofvX72o",
        "colab_type": "text"
      },
      "source": [
        "Akurasi"
      ]
    },
    {
      "cell_type": "code",
      "metadata": {
        "id": "qRgGrJT-i6yY",
        "colab_type": "code",
        "colab": {
          "base_uri": "https://localhost:8080/",
          "height": 308
        },
        "outputId": "869c4186-d23d-4ffb-9138-582791d61f64"
      },
      "source": [
        "y_true = y_test\n",
        "results = confusion_matrix(y_true, y_pred_ID3) \n",
        "print('Confusion Matrix :')\n",
        "print(results) \n",
        "print('Accuracy Score :',accuracy_score(y_true, y_pred_ID3))\n",
        "print('Report : ')\n",
        "print(classification_report(y_true, y_pred_ID3))"
      ],
      "execution_count": 65,
      "outputs": [
        {
          "output_type": "stream",
          "text": [
            "Confusion Matrix :\n",
            "[[339  28  46]\n",
            " [174  84  87]\n",
            " [147 148  99]]\n",
            "Accuracy Score : 0.453125\n",
            "Report : \n",
            "              precision    recall  f1-score   support\n",
            "\n",
            "       Bagus       0.51      0.82      0.63       413\n",
            "Kurang Bagus       0.32      0.24      0.28       345\n",
            " Tidak Bagus       0.43      0.25      0.32       394\n",
            "\n",
            "    accuracy                           0.45      1152\n",
            "   macro avg       0.42      0.44      0.41      1152\n",
            "weighted avg       0.43      0.45      0.42      1152\n",
            "\n"
          ],
          "name": "stdout"
        }
      ]
    },
    {
      "cell_type": "markdown",
      "metadata": {
        "id": "zPD9rU9pYCbv",
        "colab_type": "text"
      },
      "source": [
        "Evaluasi 2 Model ( Tanpa Scalling)"
      ]
    },
    {
      "cell_type": "code",
      "metadata": {
        "id": "FkOvsgv2wyve",
        "colab_type": "code",
        "colab": {
          "base_uri": "https://localhost:8080/",
          "height": 407
        },
        "outputId": "9bc7a905-c67d-4b0d-be42-58763391a944"
      },
      "source": [
        "result_class1 = pd.DataFrame({\n",
        "    'Hasil Sebenarnya': y_true['cluster'],\n",
        "    'Naive Bayes': y_pred_NB,\n",
        "    'ID3' : y_pred_ID3\n",
        "})\n",
        "\n",
        "result_class1"
      ],
      "execution_count": 66,
      "outputs": [
        {
          "output_type": "execute_result",
          "data": {
            "text/html": [
              "<div>\n",
              "<style scoped>\n",
              "    .dataframe tbody tr th:only-of-type {\n",
              "        vertical-align: middle;\n",
              "    }\n",
              "\n",
              "    .dataframe tbody tr th {\n",
              "        vertical-align: top;\n",
              "    }\n",
              "\n",
              "    .dataframe thead th {\n",
              "        text-align: right;\n",
              "    }\n",
              "</style>\n",
              "<table border=\"1\" class=\"dataframe\">\n",
              "  <thead>\n",
              "    <tr style=\"text-align: right;\">\n",
              "      <th></th>\n",
              "      <th>Hasil Sebenarnya</th>\n",
              "      <th>Naive Bayes</th>\n",
              "      <th>ID3</th>\n",
              "    </tr>\n",
              "  </thead>\n",
              "  <tbody>\n",
              "    <tr>\n",
              "      <th>1172</th>\n",
              "      <td>Tidak Bagus</td>\n",
              "      <td>Kurang Bagus</td>\n",
              "      <td>Kurang Bagus</td>\n",
              "    </tr>\n",
              "    <tr>\n",
              "      <th>10100</th>\n",
              "      <td>Kurang Bagus</td>\n",
              "      <td>Kurang Bagus</td>\n",
              "      <td>Bagus</td>\n",
              "    </tr>\n",
              "    <tr>\n",
              "      <th>3732</th>\n",
              "      <td>Tidak Bagus</td>\n",
              "      <td>Kurang Bagus</td>\n",
              "      <td>Bagus</td>\n",
              "    </tr>\n",
              "    <tr>\n",
              "      <th>11417</th>\n",
              "      <td>Bagus</td>\n",
              "      <td>Kurang Bagus</td>\n",
              "      <td>Tidak Bagus</td>\n",
              "    </tr>\n",
              "    <tr>\n",
              "      <th>10753</th>\n",
              "      <td>Kurang Bagus</td>\n",
              "      <td>Kurang Bagus</td>\n",
              "      <td>Bagus</td>\n",
              "    </tr>\n",
              "    <tr>\n",
              "      <th>...</th>\n",
              "      <td>...</td>\n",
              "      <td>...</td>\n",
              "      <td>...</td>\n",
              "    </tr>\n",
              "    <tr>\n",
              "      <th>2841</th>\n",
              "      <td>Tidak Bagus</td>\n",
              "      <td>Kurang Bagus</td>\n",
              "      <td>Bagus</td>\n",
              "    </tr>\n",
              "    <tr>\n",
              "      <th>13422</th>\n",
              "      <td>Bagus</td>\n",
              "      <td>Kurang Bagus</td>\n",
              "      <td>Kurang Bagus</td>\n",
              "    </tr>\n",
              "    <tr>\n",
              "      <th>1504</th>\n",
              "      <td>Tidak Bagus</td>\n",
              "      <td>Kurang Bagus</td>\n",
              "      <td>Bagus</td>\n",
              "    </tr>\n",
              "    <tr>\n",
              "      <th>16719</th>\n",
              "      <td>Bagus</td>\n",
              "      <td>Kurang Bagus</td>\n",
              "      <td>Bagus</td>\n",
              "    </tr>\n",
              "    <tr>\n",
              "      <th>2087</th>\n",
              "      <td>Tidak Bagus</td>\n",
              "      <td>Kurang Bagus</td>\n",
              "      <td>Kurang Bagus</td>\n",
              "    </tr>\n",
              "  </tbody>\n",
              "</table>\n",
              "<p>1152 rows × 3 columns</p>\n",
              "</div>"
            ],
            "text/plain": [
              "      Hasil Sebenarnya   Naive Bayes           ID3\n",
              "1172       Tidak Bagus  Kurang Bagus  Kurang Bagus\n",
              "10100     Kurang Bagus  Kurang Bagus         Bagus\n",
              "3732       Tidak Bagus  Kurang Bagus         Bagus\n",
              "11417            Bagus  Kurang Bagus   Tidak Bagus\n",
              "10753     Kurang Bagus  Kurang Bagus         Bagus\n",
              "...                ...           ...           ...\n",
              "2841       Tidak Bagus  Kurang Bagus         Bagus\n",
              "13422            Bagus  Kurang Bagus  Kurang Bagus\n",
              "1504       Tidak Bagus  Kurang Bagus         Bagus\n",
              "16719            Bagus  Kurang Bagus         Bagus\n",
              "2087       Tidak Bagus  Kurang Bagus  Kurang Bagus\n",
              "\n",
              "[1152 rows x 3 columns]"
            ]
          },
          "metadata": {
            "tags": []
          },
          "execution_count": 66
        }
      ]
    },
    {
      "cell_type": "markdown",
      "metadata": {
        "id": "eokIbOQtKAly",
        "colab_type": "text"
      },
      "source": [
        "Dari hasil diatas, dapat disimpulkan bahwa Klasifikasi dengan melakukan Scalling terlebih dahulu untuk atribut reviews_per_month dan number of reviews berhasil mendapatkan akurasi sebesar 82,2% dengan data training dan testing 80-20 dengan algoritma Naïve Bayes dan dengan menggunakan  ID3 mendpat akurasi sebesar 92,7% dengan data training dan testing 80-20\n",
        "Dan Klasifikasi tanpa melakukan Scalling untuk atribut reviews_per_month dan number of reviews berhasil mendapatkan akurasi sebesar 32,8% dengan data training dan testing 80-20 dengan algoritma Naïve Bayes dan dengan menggunakan  ID3 mendpat akurasi sebesar 0,29% dengan data training dan testing 80-20. Dapat disimpulkan bahwa, mengunakan persiapan data yang berbeda dapat mempengaruhi hasil akurasi yang didapat. Selain, itu teknik scaling sangat mempengaruhi hasil akurasi.\n"
      ]
    }
  ]
}